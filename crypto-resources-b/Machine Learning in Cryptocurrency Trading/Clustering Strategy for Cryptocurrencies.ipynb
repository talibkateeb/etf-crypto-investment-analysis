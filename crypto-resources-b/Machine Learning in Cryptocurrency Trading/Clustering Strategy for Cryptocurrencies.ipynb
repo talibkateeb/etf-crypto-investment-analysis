{
 "cells": [
  {
   "cell_type": "markdown",
   "metadata": {},
   "source": [
    "# Notebook Instructions\n",
    "\n",
    "1. All the <u>code and data files</u> used in this course are available in the downloadable unit of the <u>last section of this course</u>.\n",
    "2. You can run the notebook document sequentially (one cell at a time) by pressing **shift + enter**. \n",
    "3. While a cell is running, a [*] is shown on the left. After the cell is run, the output will appear on the next line.\n",
    "\n",
    "This course is based on specific versions of python packages. You can find the details of the packages in <a href='https://quantra.quantinsti.com/quantra-notebook' target=\"_blank\" >this manual</a>."
   ]
  },
  {
   "cell_type": "markdown",
   "metadata": {},
   "source": [
    "# Clustering based strategy\n",
    "\n",
    "In this notebook, we will create a strategy using the K-Means algorithm and the Simple Moving Average (SMA). \n",
    "The strategy works as follows:\n",
    "1. Fetch the minute data for Ethereum/USDT from a csv file\n",
    "2. Convert the UNIX epoch time to normal datetime format and set it as index\n",
    "3. Compute the SMA values for with a lookback period of 30 minutes\n",
    "4. Compute the past movement to indicate the volatility of the market\n",
    "5. Calculate the market return values\n",
    "6. Train the K-Means on the train data\n",
    "7. Predict the clusters\n",
    "8. Generate the signals\n",
    "9. Compute the strategy returns after slippage \n",
    "10. Plot the strategy returns\n",
    "11. Compute the net profit"
   ]
  },
  {
   "cell_type": "markdown",
   "metadata": {},
   "source": [
    "## Import data and libraries"
   ]
  },
  {
   "cell_type": "code",
   "execution_count": 1,
   "metadata": {},
   "outputs": [],
   "source": [
    "import numpy as np\n",
    "import matplotlib.pyplot as plt\n",
    "import pandas as pd\n",
    "import talib as ta\n",
    "from sklearn.cluster import KMeans"
   ]
  },
  {
   "cell_type": "code",
   "execution_count": 2,
   "metadata": {},
   "outputs": [],
   "source": [
    "# Read 1-min data\n",
    "df1 = pd.read_csv('../data_modules/1min_ETHUSDT.csv').iloc[-100000:]\n",
    "\n",
    "# Set the timestamp to be the index for the data\n",
    "df1 = df1.set_index('Timestamp')"
   ]
  },
  {
   "cell_type": "markdown",
   "metadata": {},
   "source": [
    "### Convert the Unix timestamp to datetime"
   ]
  },
  {
   "cell_type": "code",
   "execution_count": 3,
   "metadata": {},
   "outputs": [],
   "source": [
    "df1.index = pd.to_datetime(df1.index, unit='ms')"
   ]
  },
  {
   "cell_type": "code",
   "execution_count": 4,
   "metadata": {},
   "outputs": [
    {
     "data": {
      "image/png": "[encoded data removed]",
      "text/plain": [
       "<Figure size 720x504 with 1 Axes>"
      ]
     },
     "metadata": {
      "needs_background": "light"
     },
     "output_type": "display_data"
    }
   ],
   "source": [
    "# Let us visualize the data to confirm if it really was trending for the given time frame\n",
    "plt.figure(figsize=(10, 7))\n",
    "plt.plot(df1.Close)\n",
    "plt.xlabel('Date')\n",
    "plt.ylabel('Price')\n",
    "plt.show()"
   ]
  },
  {
   "cell_type": "markdown",
   "metadata": {},
   "source": [
    "### Compute the SMA, movement and market return"
   ]
  },
  {
   "cell_type": "code",
   "execution_count": 5,
   "metadata": {},
   "outputs": [],
   "source": [
    "# We use the past Close price to calculate the SMA, and Movement\n",
    "df1['SMA'] = df1.Close.shift(1).rolling(30).mean()\n",
    "\n",
    "# Calculate the absolute value of percentage change in prices this will be used as input for the K-means\n",
    "df1['Movement'] = df1.Close.shift(1).pct_change().abs()\n",
    "\n",
    "# We Calculate the market return values\n",
    "df1['Return'] = df1.Close.pct_change()\n",
    "\n",
    "# Drop all the null values\n",
    "df1 = df1.dropna()"
   ]
  },
  {
   "cell_type": "code",
   "execution_count": 6,
   "metadata": {},
   "outputs": [
    {
     "data": {
      "text/plain": [
       "99970"
      ]
     },
     "execution_count": 6,
     "metadata": {},
     "output_type": "execute_result"
    }
   ],
   "source": [
    "# The length of total data is\n",
    "len(df1)"
   ]
  },
  {
   "cell_type": "code",
   "execution_count": 7,
   "metadata": {},
   "outputs": [
    {
     "data": {
      "text/plain": [
       "24992"
      ]
     },
     "execution_count": 7,
     "metadata": {},
     "output_type": "execute_result"
    }
   ],
   "source": [
    "# Let us assign a variable to signify the 25% of total data\n",
    "t = int(0.25*len(df1))\n",
    "t"
   ]
  },
  {
   "cell_type": "markdown",
   "metadata": {},
   "source": [
    "### Create a column to contain the cluster values"
   ]
  },
  {
   "cell_type": "code",
   "execution_count": 8,
   "metadata": {},
   "outputs": [],
   "source": [
    "df1['Cluster'] = 0"
   ]
  },
  {
   "cell_type": "markdown",
   "metadata": {},
   "source": [
    "#### We are using the past initial 75% data to train the clustering algorithm."
   ]
  },
  {
   "cell_type": "code",
   "execution_count": 9,
   "metadata": {},
   "outputs": [],
   "source": [
    "# Instantiate a K-Means model\n",
    "clus = KMeans(2)\n",
    "\n",
    "# Fit the K-Means model to the train data to train the model. Here we need to reshape the data\n",
    "# as the input contains a single column\n",
    "clus.fit(np.reshape(df1.Movement.iloc[:-t].values, (-1, 1)))\n",
    "\n",
    "# Assign the predicted cluster values to the cluster column. We use the predict function to predict the cluster values\n",
    "df1.Cluster = clus.predict(np.reshape(df1.Movement.values, (-1, 1)))"
   ]
  },
  {
   "cell_type": "markdown",
   "metadata": {},
   "source": [
    "### Volatility Cluster centres"
   ]
  },
  {
   "cell_type": "code",
   "execution_count": 10,
   "metadata": {},
   "outputs": [
    {
     "name": "stdout",
     "output_type": "stream",
     "text": [
      "Centre of Cluster 0  0.0005109694678958357\n",
      "Centre of Cluster 1  0.0029761579983422367\n"
     ]
    }
   ],
   "source": [
    "print(\"Centre of Cluster 0 \", clus.cluster_centers_[0][0])\n",
    "print(\"Centre of Cluster 1 \", clus.cluster_centers_[1][0])"
   ]
  },
  {
   "cell_type": "markdown",
   "metadata": {},
   "source": [
    "#### Here we can see that Cluster 0's centre is less than the Cluster 1's, indicating that Cluster 0 contains the market datapoints which have less movement and are the low voaltity data points which we want to trade."
   ]
  },
  {
   "cell_type": "code",
   "execution_count": 11,
   "metadata": {},
   "outputs": [
    {
     "data": {
      "text/plain": [
       "3586"
      ]
     },
     "execution_count": 11,
     "metadata": {},
     "output_type": "execute_result"
    }
   ],
   "source": [
    "# To check the number of high volatility data points in cluster 1\n",
    "df1.Cluster.iloc[-t:].sum()"
   ]
  },
  {
   "cell_type": "markdown",
   "metadata": {},
   "source": [
    "### Generate the trend trading signals"
   ]
  },
  {
   "cell_type": "code",
   "execution_count": 12,
   "metadata": {},
   "outputs": [],
   "source": [
    "df1['Signal'] = 0\n",
    "\n",
    "# If the datapoint belongs to Cluster 0, and the SMA < Close then we sell in the market. This is indicated by the -1.\n",
    "df1['Signal'] = np.where(\n",
    "    ((df1.SMA > df1.Close.shift(1)) & (df1.Cluster == 0)), -1, df1.Signal)\n",
    "\n",
    "# If the datapoint belongs to Cluster 0, and the SMA > Close then we sell in the market. This is indicated by the 1.\n",
    "df1['Signal'] = np.where(\n",
    "    ((df1.SMA < df1.Close.shift(1)) & (df1.Cluster == 0)), 1, df1.Signal)"
   ]
  },
  {
   "cell_type": "markdown",
   "metadata": {},
   "source": [
    "### Compute the Strategy returns "
   ]
  },
  {
   "cell_type": "code",
   "execution_count": 13,
   "metadata": {},
   "outputs": [],
   "source": [
    "# We can compute the strategy returns by multiplying the trading signals with return values.\n",
    "# The multiplication will give us values same as the market returns if we are long\n",
    "# and opposite the market returns if we are short\n",
    "df1['StrReturn'] = df1.Signal*df1.Return"
   ]
  },
  {
   "cell_type": "code",
   "execution_count": 14,
   "metadata": {},
   "outputs": [
    {
     "data": {
      "image/png": "[encoded data removed]",
      "text/plain": [
       "<Figure size 720x504 with 1 Axes>"
      ]
     },
     "metadata": {
      "needs_background": "light"
     },
     "output_type": "display_data"
    }
   ],
   "source": [
    "plt.figure(figsize=(10, 7))\n",
    "Cumulative_Returns = df1.StrReturn.iloc[-t:].cumsum()\n",
    "Cumulative_Returns.plot()\n",
    "plt.xlabel('Date')\n",
    "plt.ylabel('Returns')\n",
    "plt.show()"
   ]
  },
  {
   "cell_type": "markdown",
   "metadata": {},
   "source": [
    "### Compute the total slippage cost and net cumulative  returns on the test data (last 25%)\n",
    "\n",
    "When we execute a strategy based on market orders our strategy can experience a significant slippage,\n",
    "if the bid-ask prices are far away. So, we have taken an average bid-ask spread of 0.05 based on the order book \n",
    "data from crypto exchanges and subtracted this value from every trade."
   ]
  },
  {
   "cell_type": "code",
   "execution_count": 15,
   "metadata": {},
   "outputs": [],
   "source": [
    "# Check if a trade is executed in the Signal column, if it has, \n",
    "# then subtract the slippage value from the strategy returns\n",
    "Cumulative_Returns = (\n",
    "    df1.StrReturn.iloc[-t:]-df1.Signal.iloc[-t:].abs()*(0.05/df1.Close.iloc[-t:])).expanding().sum()"
   ]
  },
  {
   "cell_type": "code",
   "execution_count": 16,
   "metadata": {
    "scrolled": true
   },
   "outputs": [
    {
     "data": {
      "text/plain": [
       "Timestamp\n",
       "2018-09-17 15:29:00    0.000000\n",
       "2018-09-17 15:30:00    0.000000\n",
       "2018-09-17 15:31:00    0.000000\n",
       "2018-09-17 15:32:00    0.000000\n",
       "2018-09-17 15:33:00   -0.000730\n",
       "2018-09-17 15:34:00   -0.003601\n",
       "2018-09-17 15:35:00   -0.003601\n",
       "2018-09-17 15:36:00   -0.003601\n",
       "2018-09-17 15:37:00   -0.003601\n",
       "2018-09-17 15:38:00   -0.003601\n",
       "2018-09-17 15:39:00   -0.003601\n",
       "2018-09-17 15:40:00   -0.003601\n",
       "2018-09-17 15:41:00   -0.003601\n",
       "2018-09-17 15:42:00   -0.003211\n",
       "2018-09-17 15:43:00    0.002854\n",
       "2018-09-17 15:44:00    0.002854\n",
       "2018-09-17 15:45:00    0.002854\n",
       "2018-09-17 15:46:00    0.002854\n",
       "2018-09-17 15:47:00    0.000065\n",
       "2018-09-17 15:48:00    0.000065\n",
       "2018-09-17 15:49:00    0.000065\n",
       "2018-09-17 15:50:00   -0.001053\n",
       "2018-09-17 15:51:00   -0.000422\n",
       "2018-09-17 15:52:00   -0.003971\n",
       "2018-09-17 15:53:00   -0.003971\n",
       "2018-09-17 15:54:00   -0.003777\n",
       "2018-09-17 15:55:00   -0.006200\n",
       "2018-09-17 15:56:00   -0.006200\n",
       "2018-09-17 15:57:00   -0.003383\n",
       "2018-09-17 15:58:00   -0.003383\n",
       "                         ...   \n",
       "2018-10-04 23:31:00   -4.806957\n",
       "2018-10-04 23:32:00   -4.806732\n",
       "2018-10-04 23:33:00   -4.807272\n",
       "2018-10-04 23:34:00   -4.806732\n",
       "2018-10-04 23:35:00   -4.806507\n",
       "2018-10-04 23:36:00   -4.806058\n",
       "2018-10-04 23:37:00   -4.807138\n",
       "2018-10-04 23:38:00   -4.807408\n",
       "2018-10-04 23:39:00   -4.807498\n",
       "2018-10-04 23:40:00   -4.806643\n",
       "2018-10-04 23:41:00   -4.806283\n",
       "2018-10-04 23:42:00   -4.806869\n",
       "2018-10-04 23:43:00   -4.806959\n",
       "2018-10-04 23:44:00   -4.807635\n",
       "2018-10-04 23:45:00   -4.809302\n",
       "2018-10-04 23:46:00   -4.809212\n",
       "2018-10-04 23:47:00   -4.809302\n",
       "2018-10-04 23:48:00   -4.809392\n",
       "2018-10-04 23:49:00   -4.809842\n",
       "2018-10-04 23:50:00   -4.810517\n",
       "2018-10-04 23:51:00   -4.810742\n",
       "2018-10-04 23:52:00   -4.811417\n",
       "2018-10-04 23:53:00   -4.813126\n",
       "2018-10-04 23:54:00   -4.813576\n",
       "2018-10-04 23:55:00   -4.813980\n",
       "2018-10-04 23:56:00   -4.813890\n",
       "2018-10-04 23:57:00   -4.814385\n",
       "2018-10-04 23:58:00   -4.814609\n",
       "2018-10-04 23:59:00   -4.813980\n",
       "2018-10-05 00:00:00   -4.814833\n",
       "Length: 24992, dtype: float64"
      ]
     },
     "execution_count": 16,
     "metadata": {},
     "output_type": "execute_result"
    }
   ],
   "source": [
    "Cumulative_Returns"
   ]
  },
  {
   "cell_type": "markdown",
   "metadata": {},
   "source": [
    "### Plot the cumulative returns of the strategy"
   ]
  },
  {
   "cell_type": "code",
   "execution_count": 17,
   "metadata": {},
   "outputs": [
    {
     "data": {
      "image/png": "[encoded data removed]",
      "text/plain": [
       "<Figure size 720x504 with 1 Axes>"
      ]
     },
     "metadata": {
      "needs_background": "light"
     },
     "output_type": "display_data"
    }
   ],
   "source": [
    "plt.figure(figsize=(10, 7))\n",
    "Cumulative_Returns.plot()\n",
    "plt.xlabel('Date')\n",
    "plt.ylabel('Returns')\n",
    "plt.show()"
   ]
  },
  {
   "cell_type": "markdown",
   "metadata": {},
   "source": [
    "### Compute the net profit after slippage"
   ]
  },
  {
   "cell_type": "code",
   "execution_count": 18,
   "metadata": {},
   "outputs": [],
   "source": [
    "Final_percentage_retuns = (Cumulative_Returns.iloc[-1])*100"
   ]
  },
  {
   "cell_type": "code",
   "execution_count": 19,
   "metadata": {},
   "outputs": [
    {
     "data": {
      "text/plain": [
       "-481.48332397808423"
      ]
     },
     "execution_count": 19,
     "metadata": {},
     "output_type": "execute_result"
    }
   ],
   "source": [
    "Final_percentage_retuns"
   ]
  },
  {
   "cell_type": "markdown",
   "metadata": {},
   "source": [
    "As we can see the strategy is not profitable, as the trade entry points are not completely optimized yet. To optimize the entry points, we need to use multiple indicators. We will learn how to optimize the entry points using the Hurst exponent in the upcoming sections."
   ]
  }
 ],
 "metadata": {
  "kernelspec": {
   "display_name": "Python 3",
   "language": "python",
   "name": "python3"
  },
  "language_info": {
   "codemirror_mode": {
    "name": "ipython",
    "version": 3
   },
   "file_extension": ".py",
   "mimetype": "text/x-python",
   "name": "python",
   "nbconvert_exporter": "python",
   "pygments_lexer": "ipython3",
   "version": "3.7.4"
  }
 },
 "nbformat": 4,
 "nbformat_minor": 2
}
