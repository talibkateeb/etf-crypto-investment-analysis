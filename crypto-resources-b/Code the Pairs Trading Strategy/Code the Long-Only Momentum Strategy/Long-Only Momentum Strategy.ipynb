{
 "cells": [
  {
   "cell_type": "markdown",
   "metadata": {},
   "source": [
    "# Notebook Instructions\n",
    "\n",
    "1. All the <u>code and data files</u> used in this course are available in the downloadable unit of the <u>last section of this course</u>.\n",
    "2. You can run the notebook document sequentially (one cell at a time) by pressing **shift + enter**. \n",
    "3. While a cell is running, a [*] is shown on the left. After the cell is run, the output will appear on the next line.\n",
    "\n",
    "This course is based on specific versions of python packages. You can find the details of the packages in <a href='https://quantra.quantinsti.com/quantra-notebook' target=\"_blank\" >this manual</a>."
   ]
  },
  {
   "cell_type": "markdown",
   "metadata": {},
   "source": [
    "# Long-only momentum strategy\n",
    "\n",
    "In this notebook, we will create and backtest a long-only momentum strategy using the quant strategy framework discussed in the previous video unit.\n",
    "\n",
    "The basic building blocks of the strategy are:\n",
    "\n",
    "<B>1. Universe Selection <BR></b>\n",
    "We have defined a static list of 10 cryptocurrencies which will form the universe for this strategy. The selection criteria for the universe can be based on the market cap and the daily volume traded.  <BR><BR>\n",
    "\n",
    "<b>2. Alpha Generation <BR></b>\n",
    "We have used the following parameters to assign a score to each of the cryptocurrencies.\n",
    "\n",
    "2.1. 2-day returns <BR>\n",
    "2.2. 7-day standard deviation <BR>\n",
    "2.3. 14-day relative strength index <BR>\n",
    "    \n",
    "The criteria and the lookback period are for illustration purpose only. It is recommended that you add more parameters and optimize the lookback period in the training dataset. <BR><BR>\n",
    "\n",
    "<b>3. Portfolio Construction <BR></b>\n",
    "Based on the combined score of all the three parameters, the portfolio is constructed. In this strategy, We go long on the top 5 cryptocurrencies.\n",
    "    \n",
    "Steps 2 and 3 are repeated at regular intervals such as daily to rebalance the portfolio."
   ]
  },
  {
   "cell_type": "markdown",
   "metadata": {},
   "source": [
    "# Universe Selection\n",
    "\n",
    "In this step, select the universe of the cryptocurrency to trade with. We have selected 10 cryptocurrencies namely Bitcoin, Ripple, EOS, Stellar Lumens, Litecoins, Ethereum, Dash, Monero, Neo, and Ethereum Cash."
   ]
  },
  {
   "cell_type": "code",
   "execution_count": 1,
   "metadata": {},
   "outputs": [
    {
     "data": {
      "text/html": [
       "<div>\n",
       "<style scoped>\n",
       "    .dataframe tbody tr th:only-of-type {\n",
       "        vertical-align: middle;\n",
       "    }\n",
       "\n",
       "    .dataframe tbody tr th {\n",
       "        vertical-align: top;\n",
       "    }\n",
       "\n",
       "    .dataframe thead th {\n",
       "        text-align: right;\n",
       "    }\n",
       "</style>\n",
       "<table border=\"1\" class=\"dataframe\">\n",
       "  <thead>\n",
       "    <tr style=\"text-align: right;\">\n",
       "      <th></th>\n",
       "      <th>BTC</th>\n",
       "      <th>XRP</th>\n",
       "      <th>EOS</th>\n",
       "      <th>XLM</th>\n",
       "      <th>LTC</th>\n",
       "      <th>ETH</th>\n",
       "      <th>XMR</th>\n",
       "      <th>DASH</th>\n",
       "      <th>NEO</th>\n",
       "      <th>ETC</th>\n",
       "    </tr>\n",
       "  </thead>\n",
       "  <tbody>\n",
       "    <tr>\n",
       "      <th>2018-10-08 05:30:00</th>\n",
       "      <td>6650.07</td>\n",
       "      <td>0.4910</td>\n",
       "      <td>5.94</td>\n",
       "      <td>0.2485</td>\n",
       "      <td>59.44</td>\n",
       "      <td>229.33</td>\n",
       "      <td>114.30</td>\n",
       "      <td>182.99</td>\n",
       "      <td>18.55</td>\n",
       "      <td>10.96</td>\n",
       "    </tr>\n",
       "    <tr>\n",
       "      <th>2018-10-09 05:30:00</th>\n",
       "      <td>6631.79</td>\n",
       "      <td>0.4805</td>\n",
       "      <td>5.92</td>\n",
       "      <td>0.2465</td>\n",
       "      <td>58.68</td>\n",
       "      <td>227.49</td>\n",
       "      <td>113.89</td>\n",
       "      <td>181.22</td>\n",
       "      <td>18.35</td>\n",
       "      <td>10.91</td>\n",
       "    </tr>\n",
       "    <tr>\n",
       "      <th>2018-10-10 05:30:00</th>\n",
       "      <td>6581.07</td>\n",
       "      <td>0.4640</td>\n",
       "      <td>5.92</td>\n",
       "      <td>0.2419</td>\n",
       "      <td>57.82</td>\n",
       "      <td>225.26</td>\n",
       "      <td>114.74</td>\n",
       "      <td>179.83</td>\n",
       "      <td>18.28</td>\n",
       "      <td>10.85</td>\n",
       "    </tr>\n",
       "    <tr>\n",
       "      <th>2018-10-11 05:30:00</th>\n",
       "      <td>6209.47</td>\n",
       "      <td>0.3809</td>\n",
       "      <td>5.09</td>\n",
       "      <td>0.2047</td>\n",
       "      <td>50.81</td>\n",
       "      <td>189.83</td>\n",
       "      <td>100.37</td>\n",
       "      <td>157.06</td>\n",
       "      <td>15.52</td>\n",
       "      <td>9.15</td>\n",
       "    </tr>\n",
       "    <tr>\n",
       "      <th>2018-10-12 05:30:00</th>\n",
       "      <td>6271.32</td>\n",
       "      <td>0.4348</td>\n",
       "      <td>5.23</td>\n",
       "      <td>0.2184</td>\n",
       "      <td>52.61</td>\n",
       "      <td>196.81</td>\n",
       "      <td>102.97</td>\n",
       "      <td>158.72</td>\n",
       "      <td>16.02</td>\n",
       "      <td>9.52</td>\n",
       "    </tr>\n",
       "  </tbody>\n",
       "</table>\n",
       "</div>"
      ],
      "text/plain": [
       "                         BTC     XRP   EOS     XLM    LTC     ETH     XMR  \\\n",
       "2018-10-08 05:30:00  6650.07  0.4910  5.94  0.2485  59.44  229.33  114.30   \n",
       "2018-10-09 05:30:00  6631.79  0.4805  5.92  0.2465  58.68  227.49  113.89   \n",
       "2018-10-10 05:30:00  6581.07  0.4640  5.92  0.2419  57.82  225.26  114.74   \n",
       "2018-10-11 05:30:00  6209.47  0.3809  5.09  0.2047  50.81  189.83  100.37   \n",
       "2018-10-12 05:30:00  6271.32  0.4348  5.23  0.2184  52.61  196.81  102.97   \n",
       "\n",
       "                       DASH    NEO    ETC  \n",
       "2018-10-08 05:30:00  182.99  18.55  10.96  \n",
       "2018-10-09 05:30:00  181.22  18.35  10.91  \n",
       "2018-10-10 05:30:00  179.83  18.28  10.85  \n",
       "2018-10-11 05:30:00  157.06  15.52   9.15  \n",
       "2018-10-12 05:30:00  158.72  16.02   9.52  "
      ]
     },
     "execution_count": 1,
     "metadata": {},
     "output_type": "execute_result"
    }
   ],
   "source": [
    "# Import pandas library and set the alias name to pd\n",
    "import pandas as pd\n",
    "\n",
    "# Read the csv data from cryptos_price.csv into a dataframe df.\n",
    "# This file can be downloaded from the last section of this course.\n",
    "df = pd.read_csv('../data_modules/cryptos_price.csv', index_col=0)\n",
    "\n",
    "# Set index type to datetime\n",
    "df.index = pd.to_datetime(df.index)\n",
    "\n",
    "# Print the last five rows of the dataframe df\n",
    "df.tail()"
   ]
  },
  {
   "cell_type": "markdown",
   "metadata": {},
   "source": [
    "# Alpha Generation\n",
    "\n",
    "In this step, the 2-day returns, the 7-day standard deviation and 14-day RSI is computed and are ranked as below\n",
    "1. The higher 2-day returns is given a higher rank assuming that the returns momentum will continue\n",
    "2. The lower 7-day standard deviation is given a higher rank assuming that relatively less volatile cryptos are preferred\n",
    "3. The higher 14-day RSI is given a higher rank assuming that the trend will persist"
   ]
  },
  {
   "cell_type": "code",
   "execution_count": 2,
   "metadata": {},
   "outputs": [
    {
     "data": {
      "text/html": [
       "<div>\n",
       "<style scoped>\n",
       "    .dataframe tbody tr th:only-of-type {\n",
       "        vertical-align: middle;\n",
       "    }\n",
       "\n",
       "    .dataframe tbody tr th {\n",
       "        vertical-align: top;\n",
       "    }\n",
       "\n",
       "    .dataframe thead th {\n",
       "        text-align: right;\n",
       "    }\n",
       "</style>\n",
       "<table border=\"1\" class=\"dataframe\">\n",
       "  <thead>\n",
       "    <tr style=\"text-align: right;\">\n",
       "      <th></th>\n",
       "      <th>BTC</th>\n",
       "      <th>XRP</th>\n",
       "      <th>EOS</th>\n",
       "      <th>XLM</th>\n",
       "      <th>LTC</th>\n",
       "      <th>ETH</th>\n",
       "      <th>XMR</th>\n",
       "      <th>DASH</th>\n",
       "      <th>NEO</th>\n",
       "      <th>ETC</th>\n",
       "    </tr>\n",
       "  </thead>\n",
       "  <tbody>\n",
       "    <tr>\n",
       "      <th>2018-10-08 05:30:00</th>\n",
       "      <td>0.009112</td>\n",
       "      <td>0.006985</td>\n",
       "      <td>0.036486</td>\n",
       "      <td>0.033000</td>\n",
       "      <td>0.027909</td>\n",
       "      <td>0.020894</td>\n",
       "      <td>-0.005091</td>\n",
       "      <td>0.011372</td>\n",
       "      <td>0.033152</td>\n",
       "      <td>0.002745</td>\n",
       "    </tr>\n",
       "    <tr>\n",
       "      <th>2018-10-09 05:30:00</th>\n",
       "      <td>0.004662</td>\n",
       "      <td>-0.002713</td>\n",
       "      <td>0.027883</td>\n",
       "      <td>0.011230</td>\n",
       "      <td>0.010454</td>\n",
       "      <td>0.008285</td>\n",
       "      <td>0.000983</td>\n",
       "      <td>0.000317</td>\n",
       "      <td>0.006772</td>\n",
       "      <td>-0.001817</td>\n",
       "    </tr>\n",
       "    <tr>\n",
       "      <th>2018-10-10 05:30:00</th>\n",
       "      <td>-0.010397</td>\n",
       "      <td>-0.055724</td>\n",
       "      <td>-0.003367</td>\n",
       "      <td>-0.026710</td>\n",
       "      <td>-0.027442</td>\n",
       "      <td>-0.017826</td>\n",
       "      <td>0.003876</td>\n",
       "      <td>-0.017343</td>\n",
       "      <td>-0.014596</td>\n",
       "      <td>-0.010062</td>\n",
       "    </tr>\n",
       "    <tr>\n",
       "      <th>2018-10-11 05:30:00</th>\n",
       "      <td>-0.064113</td>\n",
       "      <td>-0.213434</td>\n",
       "      <td>-0.140203</td>\n",
       "      <td>-0.172444</td>\n",
       "      <td>-0.135894</td>\n",
       "      <td>-0.167088</td>\n",
       "      <td>-0.117776</td>\n",
       "      <td>-0.134290</td>\n",
       "      <td>-0.154799</td>\n",
       "      <td>-0.162182</td>\n",
       "    </tr>\n",
       "    <tr>\n",
       "      <th>2018-10-12 05:30:00</th>\n",
       "      <td>-0.046504</td>\n",
       "      <td>-0.037588</td>\n",
       "      <td>-0.112698</td>\n",
       "      <td>-0.086855</td>\n",
       "      <td>-0.085812</td>\n",
       "      <td>-0.120515</td>\n",
       "      <td>-0.099336</td>\n",
       "      <td>-0.116050</td>\n",
       "      <td>-0.118768</td>\n",
       "      <td>-0.116245</td>\n",
       "    </tr>\n",
       "  </tbody>\n",
       "</table>\n",
       "</div>"
      ],
      "text/plain": [
       "                          BTC       XRP       EOS       XLM       LTC  \\\n",
       "2018-10-08 05:30:00  0.009112  0.006985  0.036486  0.033000  0.027909   \n",
       "2018-10-09 05:30:00  0.004662 -0.002713  0.027883  0.011230  0.010454   \n",
       "2018-10-10 05:30:00 -0.010397 -0.055724 -0.003367 -0.026710 -0.027442   \n",
       "2018-10-11 05:30:00 -0.064113 -0.213434 -0.140203 -0.172444 -0.135894   \n",
       "2018-10-12 05:30:00 -0.046504 -0.037588 -0.112698 -0.086855 -0.085812   \n",
       "\n",
       "                          ETH       XMR      DASH       NEO       ETC  \n",
       "2018-10-08 05:30:00  0.020894 -0.005091  0.011372  0.033152  0.002745  \n",
       "2018-10-09 05:30:00  0.008285  0.000983  0.000317  0.006772 -0.001817  \n",
       "2018-10-10 05:30:00 -0.017826  0.003876 -0.017343 -0.014596 -0.010062  \n",
       "2018-10-11 05:30:00 -0.167088 -0.117776 -0.134290 -0.154799 -0.162182  \n",
       "2018-10-12 05:30:00 -0.120515 -0.099336 -0.116050 -0.118768 -0.116245  "
      ]
     },
     "execution_count": 2,
     "metadata": {},
     "output_type": "execute_result"
    }
   ],
   "source": [
    "# Alpha: 2-day returns\n",
    "\n",
    "# Compute the 1-day percent change using the pct_change function\n",
    "df_pct = df.pct_change()\n",
    "\n",
    "# Add the past two days returns using the rolling_sum function\n",
    "df_pct_2 = df_pct.rolling(2).sum()\n",
    "\n",
    "# Print the last five rows of the 2-day percentage change\n",
    "df_pct_2.tail()"
   ]
  },
  {
   "cell_type": "markdown",
   "metadata": {},
   "source": [
    "Using the rank function, the cryptos are ranked in the ascending order. Since the 2-day returns of the ETH is lowest it is ranked \"1\" and the 2-day returns of the XRP is highest it is ranked \"10\"."
   ]
  },
  {
   "cell_type": "code",
   "execution_count": 3,
   "metadata": {},
   "outputs": [
    {
     "data": {
      "text/html": [
       "<div>\n",
       "<style scoped>\n",
       "    .dataframe tbody tr th:only-of-type {\n",
       "        vertical-align: middle;\n",
       "    }\n",
       "\n",
       "    .dataframe tbody tr th {\n",
       "        vertical-align: top;\n",
       "    }\n",
       "\n",
       "    .dataframe thead th {\n",
       "        text-align: right;\n",
       "    }\n",
       "</style>\n",
       "<table border=\"1\" class=\"dataframe\">\n",
       "  <thead>\n",
       "    <tr style=\"text-align: right;\">\n",
       "      <th></th>\n",
       "      <th>BTC</th>\n",
       "      <th>XRP</th>\n",
       "      <th>EOS</th>\n",
       "      <th>XLM</th>\n",
       "      <th>LTC</th>\n",
       "      <th>ETH</th>\n",
       "      <th>XMR</th>\n",
       "      <th>DASH</th>\n",
       "      <th>NEO</th>\n",
       "      <th>ETC</th>\n",
       "    </tr>\n",
       "  </thead>\n",
       "  <tbody>\n",
       "    <tr>\n",
       "      <th>2018-10-08 05:30:00</th>\n",
       "      <td>4.0</td>\n",
       "      <td>3.0</td>\n",
       "      <td>10.0</td>\n",
       "      <td>8.0</td>\n",
       "      <td>7.0</td>\n",
       "      <td>6.0</td>\n",
       "      <td>1.0</td>\n",
       "      <td>5.0</td>\n",
       "      <td>9.0</td>\n",
       "      <td>2.0</td>\n",
       "    </tr>\n",
       "    <tr>\n",
       "      <th>2018-10-09 05:30:00</th>\n",
       "      <td>5.0</td>\n",
       "      <td>1.0</td>\n",
       "      <td>10.0</td>\n",
       "      <td>9.0</td>\n",
       "      <td>8.0</td>\n",
       "      <td>7.0</td>\n",
       "      <td>4.0</td>\n",
       "      <td>3.0</td>\n",
       "      <td>6.0</td>\n",
       "      <td>2.0</td>\n",
       "    </tr>\n",
       "    <tr>\n",
       "      <th>2018-10-10 05:30:00</th>\n",
       "      <td>7.0</td>\n",
       "      <td>1.0</td>\n",
       "      <td>9.0</td>\n",
       "      <td>3.0</td>\n",
       "      <td>2.0</td>\n",
       "      <td>4.0</td>\n",
       "      <td>10.0</td>\n",
       "      <td>5.0</td>\n",
       "      <td>6.0</td>\n",
       "      <td>8.0</td>\n",
       "    </tr>\n",
       "    <tr>\n",
       "      <th>2018-10-11 05:30:00</th>\n",
       "      <td>10.0</td>\n",
       "      <td>1.0</td>\n",
       "      <td>6.0</td>\n",
       "      <td>2.0</td>\n",
       "      <td>7.0</td>\n",
       "      <td>3.0</td>\n",
       "      <td>9.0</td>\n",
       "      <td>8.0</td>\n",
       "      <td>5.0</td>\n",
       "      <td>4.0</td>\n",
       "    </tr>\n",
       "    <tr>\n",
       "      <th>2018-10-12 05:30:00</th>\n",
       "      <td>9.0</td>\n",
       "      <td>10.0</td>\n",
       "      <td>5.0</td>\n",
       "      <td>7.0</td>\n",
       "      <td>8.0</td>\n",
       "      <td>1.0</td>\n",
       "      <td>6.0</td>\n",
       "      <td>4.0</td>\n",
       "      <td>2.0</td>\n",
       "      <td>3.0</td>\n",
       "    </tr>\n",
       "  </tbody>\n",
       "</table>\n",
       "</div>"
      ],
      "text/plain": [
       "                      BTC   XRP   EOS  XLM  LTC  ETH   XMR  DASH  NEO  ETC\n",
       "2018-10-08 05:30:00   4.0   3.0  10.0  8.0  7.0  6.0   1.0   5.0  9.0  2.0\n",
       "2018-10-09 05:30:00   5.0   1.0  10.0  9.0  8.0  7.0   4.0   3.0  6.0  2.0\n",
       "2018-10-10 05:30:00   7.0   1.0   9.0  3.0  2.0  4.0  10.0   5.0  6.0  8.0\n",
       "2018-10-11 05:30:00  10.0   1.0   6.0  2.0  7.0  3.0   9.0   8.0  5.0  4.0\n",
       "2018-10-12 05:30:00   9.0  10.0   5.0  7.0  8.0  1.0   6.0   4.0  2.0  3.0"
      ]
     },
     "execution_count": 3,
     "metadata": {},
     "output_type": "execute_result"
    }
   ],
   "source": [
    "# Daily rank the cryptos in ascending order\n",
    "pct_2_ranks = df_pct_2.rank(axis=1, ascending=True)\n",
    "\n",
    "# Print the last five rows of the ranks\n",
    "pct_2_ranks.tail()"
   ]
  },
  {
   "cell_type": "code",
   "execution_count": 4,
   "metadata": {},
   "outputs": [
    {
     "data": {
      "text/html": [
       "<div>\n",
       "<style scoped>\n",
       "    .dataframe tbody tr th:only-of-type {\n",
       "        vertical-align: middle;\n",
       "    }\n",
       "\n",
       "    .dataframe tbody tr th {\n",
       "        vertical-align: top;\n",
       "    }\n",
       "\n",
       "    .dataframe thead th {\n",
       "        text-align: right;\n",
       "    }\n",
       "</style>\n",
       "<table border=\"1\" class=\"dataframe\">\n",
       "  <thead>\n",
       "    <tr style=\"text-align: right;\">\n",
       "      <th></th>\n",
       "      <th>BTC</th>\n",
       "      <th>XRP</th>\n",
       "      <th>EOS</th>\n",
       "      <th>XLM</th>\n",
       "      <th>LTC</th>\n",
       "      <th>ETH</th>\n",
       "      <th>XMR</th>\n",
       "      <th>DASH</th>\n",
       "      <th>NEO</th>\n",
       "      <th>ETC</th>\n",
       "    </tr>\n",
       "  </thead>\n",
       "  <tbody>\n",
       "    <tr>\n",
       "      <th>2018-10-08 05:30:00</th>\n",
       "      <td>9.0</td>\n",
       "      <td>1.0</td>\n",
       "      <td>3.0</td>\n",
       "      <td>2.0</td>\n",
       "      <td>5.0</td>\n",
       "      <td>4.0</td>\n",
       "      <td>8.0</td>\n",
       "      <td>7.0</td>\n",
       "      <td>6.0</td>\n",
       "      <td>10.0</td>\n",
       "    </tr>\n",
       "    <tr>\n",
       "      <th>2018-10-09 05:30:00</th>\n",
       "      <td>9.0</td>\n",
       "      <td>1.0</td>\n",
       "      <td>5.0</td>\n",
       "      <td>3.0</td>\n",
       "      <td>2.0</td>\n",
       "      <td>4.0</td>\n",
       "      <td>8.0</td>\n",
       "      <td>7.0</td>\n",
       "      <td>6.0</td>\n",
       "      <td>10.0</td>\n",
       "    </tr>\n",
       "    <tr>\n",
       "      <th>2018-10-10 05:30:00</th>\n",
       "      <td>8.0</td>\n",
       "      <td>1.0</td>\n",
       "      <td>2.0</td>\n",
       "      <td>3.0</td>\n",
       "      <td>4.0</td>\n",
       "      <td>5.0</td>\n",
       "      <td>9.0</td>\n",
       "      <td>7.0</td>\n",
       "      <td>6.0</td>\n",
       "      <td>10.0</td>\n",
       "    </tr>\n",
       "    <tr>\n",
       "      <th>2018-10-11 05:30:00</th>\n",
       "      <td>10.0</td>\n",
       "      <td>1.0</td>\n",
       "      <td>6.0</td>\n",
       "      <td>3.0</td>\n",
       "      <td>8.0</td>\n",
       "      <td>2.0</td>\n",
       "      <td>9.0</td>\n",
       "      <td>7.0</td>\n",
       "      <td>4.0</td>\n",
       "      <td>5.0</td>\n",
       "    </tr>\n",
       "    <tr>\n",
       "      <th>2018-10-12 05:30:00</th>\n",
       "      <td>10.0</td>\n",
       "      <td>1.0</td>\n",
       "      <td>6.0</td>\n",
       "      <td>2.0</td>\n",
       "      <td>7.0</td>\n",
       "      <td>3.0</td>\n",
       "      <td>8.0</td>\n",
       "      <td>9.0</td>\n",
       "      <td>5.0</td>\n",
       "      <td>4.0</td>\n",
       "    </tr>\n",
       "  </tbody>\n",
       "</table>\n",
       "</div>"
      ],
      "text/plain": [
       "                      BTC  XRP  EOS  XLM  LTC  ETH  XMR  DASH  NEO   ETC\n",
       "2018-10-08 05:30:00   9.0  1.0  3.0  2.0  5.0  4.0  8.0   7.0  6.0  10.0\n",
       "2018-10-09 05:30:00   9.0  1.0  5.0  3.0  2.0  4.0  8.0   7.0  6.0  10.0\n",
       "2018-10-10 05:30:00   8.0  1.0  2.0  3.0  4.0  5.0  9.0   7.0  6.0  10.0\n",
       "2018-10-11 05:30:00  10.0  1.0  6.0  3.0  8.0  2.0  9.0   7.0  4.0   5.0\n",
       "2018-10-12 05:30:00  10.0  1.0  6.0  2.0  7.0  3.0  8.0   9.0  5.0   4.0"
      ]
     },
     "execution_count": 4,
     "metadata": {},
     "output_type": "execute_result"
    }
   ],
   "source": [
    "# Alpha: 7-day standard deviation\n",
    "\n",
    "# Compute the rolling standard deviation for the past 7 days\n",
    "df_std_7 = df_pct.rolling(7).std()\n",
    "\n",
    "# Daily rank the cryptos in descending order\n",
    "std_7_ranks = df_std_7.rank(axis=1, ascending=False)\n",
    "\n",
    "# Print the last five rows of the ranks\n",
    "std_7_ranks.tail()"
   ]
  },
  {
   "cell_type": "code",
   "execution_count": 5,
   "metadata": {},
   "outputs": [
    {
     "ename": "ModuleNotFoundError",
     "evalue": "No module named 'talib'",
     "output_type": "error",
     "traceback": [
      "\u001b[0;31m---------------------------------------------------------------------------\u001b[0m",
      "\u001b[0;31mModuleNotFoundError\u001b[0m                       Traceback (most recent call last)",
      "\u001b[0;32m<ipython-input-5-64b361adbc2f>\u001b[0m in \u001b[0;36m<module>\u001b[0;34m\u001b[0m\n\u001b[1;32m      2\u001b[0m \u001b[0;34m\u001b[0m\u001b[0m\n\u001b[1;32m      3\u001b[0m \u001b[0;31m# import the talib library to compute the strategy returns\u001b[0m\u001b[0;34m\u001b[0m\u001b[0;34m\u001b[0m\u001b[0;34m\u001b[0m\u001b[0m\n\u001b[0;32m----> 4\u001b[0;31m \u001b[0;32mimport\u001b[0m \u001b[0mtalib\u001b[0m \u001b[0;32mas\u001b[0m \u001b[0mta\u001b[0m\u001b[0;34m\u001b[0m\u001b[0;34m\u001b[0m\u001b[0m\n\u001b[0m\u001b[1;32m      5\u001b[0m \u001b[0;34m\u001b[0m\u001b[0m\n\u001b[1;32m      6\u001b[0m \u001b[0;31m# A function is defined to compute the RSI function of talib package\u001b[0m\u001b[0;34m\u001b[0m\u001b[0;34m\u001b[0m\u001b[0;34m\u001b[0m\u001b[0m\n",
      "\u001b[0;31mModuleNotFoundError\u001b[0m: No module named 'talib'"
     ]
    }
   ],
   "source": [
    "# Alpha: 14-day RSI\n",
    "\n",
    "# import the talib library to compute the strategy returns\n",
    "import talib as ta\n",
    "\n",
    "# A function is defined to compute the RSI function of talib package\n",
    "\n",
    "\n",
    "def calc_rsi(df, timeperiod=14):\n",
    "    return ta.RSI(df.values, timeperiod=timeperiod)\n",
    "\n",
    "\n",
    "# Compute the RSI\n",
    "df_rsi_14 = df.apply(calc_rsi, axis=0)\n",
    "\n",
    "# Daily rank the RSI values in ascending order\n",
    "rsi_14_ranks = df_rsi_14.rank(axis=1, ascending=True)\n",
    "\n",
    "# Print the last five rows of the rank\n",
    "rsi_14_ranks.tail()"
   ]
  },
  {
   "cell_type": "markdown",
   "metadata": {},
   "source": [
    "The individual ranks obtained from each of the parameters is added to get a combined score. This combined score is again ranked in ascending order to generate a score/rank which will be used in the portfolio construction step. "
   ]
  },
  {
   "cell_type": "code",
   "execution_count": 6,
   "metadata": {},
   "outputs": [
    {
     "ename": "NameError",
     "evalue": "name 'rsi_14_ranks' is not defined",
     "output_type": "error",
     "traceback": [
      "\u001b[0;31m---------------------------------------------------------------------------\u001b[0m",
      "\u001b[0;31mNameError\u001b[0m                                 Traceback (most recent call last)",
      "\u001b[0;32m<ipython-input-6-965614a6997b>\u001b[0m in \u001b[0;36m<module>\u001b[0;34m\u001b[0m\n\u001b[1;32m      1\u001b[0m \u001b[0;31m# Add individual ranks to get the combined score\u001b[0m\u001b[0;34m\u001b[0m\u001b[0;34m\u001b[0m\u001b[0;34m\u001b[0m\u001b[0m\n\u001b[0;32m----> 2\u001b[0;31m \u001b[0mcombined_score\u001b[0m \u001b[0;34m=\u001b[0m \u001b[0mpct_2_ranks\u001b[0m \u001b[0;34m+\u001b[0m \u001b[0mstd_7_ranks\u001b[0m \u001b[0;34m+\u001b[0m \u001b[0mrsi_14_ranks\u001b[0m\u001b[0;34m\u001b[0m\u001b[0;34m\u001b[0m\u001b[0m\n\u001b[0m\u001b[1;32m      3\u001b[0m \u001b[0;34m\u001b[0m\u001b[0m\n\u001b[1;32m      4\u001b[0m \u001b[0;31m# Rank the combined score\u001b[0m\u001b[0;34m\u001b[0m\u001b[0;34m\u001b[0m\u001b[0;34m\u001b[0m\u001b[0m\n\u001b[1;32m      5\u001b[0m \u001b[0mcombined_ranks\u001b[0m \u001b[0;34m=\u001b[0m \u001b[0mcombined_score\u001b[0m\u001b[0;34m.\u001b[0m\u001b[0mrank\u001b[0m\u001b[0;34m(\u001b[0m\u001b[0maxis\u001b[0m\u001b[0;34m=\u001b[0m\u001b[0;36m1\u001b[0m\u001b[0;34m)\u001b[0m\u001b[0;34m\u001b[0m\u001b[0;34m\u001b[0m\u001b[0m\n",
      "\u001b[0;31mNameError\u001b[0m: name 'rsi_14_ranks' is not defined"
     ]
    }
   ],
   "source": [
    "# Add individual ranks to get the combined score\n",
    "combined_score = pct_2_ranks + std_7_ranks + rsi_14_ranks\n",
    "\n",
    "# Rank the combined score\n",
    "combined_ranks = combined_score.rank(axis=1)\n",
    "\n",
    "# Print last five rows of the combined_ranks\n",
    "combined_ranks.tail()"
   ]
  },
  {
   "cell_type": "markdown",
   "metadata": {},
   "source": [
    "Another approach would have been to take a weighted average of the ranks. The weight could be based on historic predictive power of that alpha component. For example, for the past 100 days, if RSI predicted better than 2-days returns than RSI can be assigned more weight than the 2-days returns."
   ]
  },
  {
   "cell_type": "markdown",
   "metadata": {},
   "source": [
    "# Portfolio Construction\n",
    "\n",
    "Based on the combined score ranks, we will go long on top 5 cryptocurrencies with the highest score. We will allocate an equal amount of capital to all. We have arbitrarily selected 5 as it was 50% of the universe."
   ]
  },
  {
   "cell_type": "code",
   "execution_count": 7,
   "metadata": {
    "scrolled": true
   },
   "outputs": [
    {
     "ename": "NameError",
     "evalue": "name 'combined_ranks' is not defined",
     "output_type": "error",
     "traceback": [
      "\u001b[0;31m---------------------------------------------------------------------------\u001b[0m",
      "\u001b[0;31mNameError\u001b[0m                                 Traceback (most recent call last)",
      "\u001b[0;32m<ipython-input-7-6d1196e4f096>\u001b[0m in \u001b[0;36m<module>\u001b[0;34m\u001b[0m\n\u001b[1;32m     12\u001b[0m \u001b[0;34m\u001b[0m\u001b[0m\n\u001b[1;32m     13\u001b[0m \u001b[0;31m# Call the signal_generator to decide on cryptocurrency to go long on\u001b[0m\u001b[0;34m\u001b[0m\u001b[0;34m\u001b[0m\u001b[0;34m\u001b[0m\u001b[0m\n\u001b[0;32m---> 14\u001b[0;31m \u001b[0msignal\u001b[0m \u001b[0;34m=\u001b[0m \u001b[0mcombined_ranks\u001b[0m\u001b[0;34m.\u001b[0m\u001b[0mapply\u001b[0m\u001b[0;34m(\u001b[0m\u001b[0;32mlambda\u001b[0m \u001b[0mr\u001b[0m\u001b[0;34m:\u001b[0m \u001b[0msignal_generator\u001b[0m\u001b[0;34m(\u001b[0m\u001b[0mr\u001b[0m\u001b[0;34m)\u001b[0m\u001b[0;34m,\u001b[0m \u001b[0maxis\u001b[0m\u001b[0;34m=\u001b[0m\u001b[0;36m0\u001b[0m\u001b[0;34m)\u001b[0m\u001b[0;34m\u001b[0m\u001b[0;34m\u001b[0m\u001b[0m\n\u001b[0m\u001b[1;32m     15\u001b[0m \u001b[0;34m\u001b[0m\u001b[0m\n\u001b[1;32m     16\u001b[0m \u001b[0;31m# Print the last five rows of the signal dataframe\u001b[0m\u001b[0;34m\u001b[0m\u001b[0;34m\u001b[0m\u001b[0;34m\u001b[0m\u001b[0m\n",
      "\u001b[0;31mNameError\u001b[0m: name 'combined_ranks' is not defined"
     ]
    }
   ],
   "source": [
    "# Generate trading signal\n",
    "def signal_generator(rank):\n",
    "    # If the rank is less than 6 than set the signal to 0 to indicate no positions\n",
    "    rank[rank < 6] = 0\n",
    "\n",
    "    # If the rank is greater than or equal to 6 than set the signal to 1 to indicate the long position\n",
    "    rank[rank >= 6] = 1\n",
    "\n",
    "    # return the rank dataframe\n",
    "    return rank\n",
    "\n",
    "\n",
    "# Call the signal_generator to decide on cryptocurrency to go long on\n",
    "signal = combined_ranks.apply(lambda r: signal_generator(r), axis=0)\n",
    "\n",
    "# Print the last five rows of the signal dataframe\n",
    "signal.tail()"
   ]
  },
  {
   "cell_type": "markdown",
   "metadata": {},
   "source": [
    "As seen from the dataframe, on 2018-10-12, we will go long on BTC, XRP, EOS, LTC and XMR."
   ]
  },
  {
   "cell_type": "markdown",
   "metadata": {},
   "source": [
    "### Note: Number of positions\n",
    "On certain days, the combined_ranks is same for some cryptocurrencies and therefore we will not be uniquely able to determine the top 5 cryptocurrencies. Thus, on those days we may have positions in 3, 4, or 6 cryptocurrencies instead of 5 as we have taken positions into all the cryptocurrencies with rank greater than or equal to 6. "
   ]
  },
  {
   "cell_type": "code",
   "execution_count": 8,
   "metadata": {},
   "outputs": [
    {
     "ename": "NameError",
     "evalue": "name 'signal' is not defined",
     "output_type": "error",
     "traceback": [
      "\u001b[0;31m---------------------------------------------------------------------------\u001b[0m",
      "\u001b[0;31mNameError\u001b[0m                                 Traceback (most recent call last)",
      "\u001b[0;32m<ipython-input-8-0bfe12d483d1>\u001b[0m in \u001b[0;36m<module>\u001b[0;34m\u001b[0m\n\u001b[1;32m      1\u001b[0m \u001b[0;31m# Number of positions\u001b[0m\u001b[0;34m\u001b[0m\u001b[0;34m\u001b[0m\u001b[0;34m\u001b[0m\u001b[0m\n\u001b[1;32m      2\u001b[0m \u001b[0;31m# Take the sum of signal to determine the number of positions\u001b[0m\u001b[0;34m\u001b[0m\u001b[0;34m\u001b[0m\u001b[0;34m\u001b[0m\u001b[0m\n\u001b[0;32m----> 3\u001b[0;31m \u001b[0msignal\u001b[0m\u001b[0;34m.\u001b[0m\u001b[0msum\u001b[0m\u001b[0;34m(\u001b[0m\u001b[0maxis\u001b[0m\u001b[0;34m=\u001b[0m\u001b[0;36m1\u001b[0m\u001b[0;34m)\u001b[0m\u001b[0;34m[\u001b[0m\u001b[0;34m-\u001b[0m\u001b[0;36m25\u001b[0m\u001b[0;34m:\u001b[0m\u001b[0;34m-\u001b[0m\u001b[0;36m15\u001b[0m\u001b[0;34m]\u001b[0m\u001b[0;34m\u001b[0m\u001b[0;34m\u001b[0m\u001b[0m\n\u001b[0m",
      "\u001b[0;31mNameError\u001b[0m: name 'signal' is not defined"
     ]
    }
   ],
   "source": [
    "# Number of positions\n",
    "# Take the sum of signal to determine the number of positions\n",
    "signal.sum(axis=1)[-25:-15]"
   ]
  },
  {
   "cell_type": "markdown",
   "metadata": {},
   "source": [
    "As seen from the above sample, the number of positions might vary on each day. For example, the number of positions on 2018-09-21 is 4 and on 2018-09-24 is 6."
   ]
  },
  {
   "cell_type": "markdown",
   "metadata": {},
   "source": [
    "# Strategy Returns\n",
    "\n",
    "The strategy returns are computed by multiplying the signal with the daily percentage change. The signal is shifted by 1 day to avoid look-ahead bias."
   ]
  },
  {
   "cell_type": "code",
   "execution_count": 9,
   "metadata": {},
   "outputs": [
    {
     "ename": "NameError",
     "evalue": "name 'signal' is not defined",
     "output_type": "error",
     "traceback": [
      "\u001b[0;31m---------------------------------------------------------------------------\u001b[0m",
      "\u001b[0;31mNameError\u001b[0m                                 Traceback (most recent call last)",
      "\u001b[0;32m<ipython-input-9-5790e014c9e1>\u001b[0m in \u001b[0;36m<module>\u001b[0;34m\u001b[0m\n\u001b[1;32m      5\u001b[0m \u001b[0;34m\u001b[0m\u001b[0m\n\u001b[1;32m      6\u001b[0m \u001b[0;31m# Compute the strategy returns for each of the cryptocurrencies\u001b[0m\u001b[0;34m\u001b[0m\u001b[0;34m\u001b[0m\u001b[0;34m\u001b[0m\u001b[0m\n\u001b[0;32m----> 7\u001b[0;31m \u001b[0mstrategy_returns\u001b[0m \u001b[0;34m=\u001b[0m \u001b[0msignal\u001b[0m\u001b[0;34m.\u001b[0m\u001b[0mshift\u001b[0m\u001b[0;34m(\u001b[0m\u001b[0;36m1\u001b[0m\u001b[0;34m)\u001b[0m \u001b[0;34m*\u001b[0m \u001b[0mdf_pct\u001b[0m\u001b[0;34m\u001b[0m\u001b[0;34m\u001b[0m\u001b[0m\n\u001b[0m\u001b[1;32m      8\u001b[0m \u001b[0;34m\u001b[0m\u001b[0m\n\u001b[1;32m      9\u001b[0m \u001b[0;31m# Plot the cumulative sum of the returns for each of the cryptos\u001b[0m\u001b[0;34m\u001b[0m\u001b[0;34m\u001b[0m\u001b[0;34m\u001b[0m\u001b[0m\n",
      "\u001b[0;31mNameError\u001b[0m: name 'signal' is not defined"
     ]
    }
   ],
   "source": [
    "# Import matplotlib package to plot the graphs\n",
    "import matplotlib.pyplot as plt\n",
    "%matplotlib inline\n",
    "plt.style.use(\"bmh\")\n",
    "\n",
    "# Compute the strategy returns for each of the cryptocurrencies\n",
    "strategy_returns = signal.shift(1) * df_pct\n",
    "\n",
    "# Plot the cumulative sum of the returns for each of the cryptos\n",
    "strategy_returns.cumsum().plot(figsize=(10, 7))\n",
    "plt.xlabel('Date')\n",
    "plt.ylabel('Strategy Returns (%)')\n",
    "plt.show()"
   ]
  },
  {
   "cell_type": "markdown",
   "metadata": {},
   "source": [
    "In the below code, the strategy returns are computed for all the cryptos and stored in daily_ret."
   ]
  },
  {
   "cell_type": "code",
   "execution_count": 10,
   "metadata": {},
   "outputs": [
    {
     "ename": "NameError",
     "evalue": "name 'strategy_returns' is not defined",
     "output_type": "error",
     "traceback": [
      "\u001b[0;31m---------------------------------------------------------------------------\u001b[0m",
      "\u001b[0;31mNameError\u001b[0m                                 Traceback (most recent call last)",
      "\u001b[0;32m<ipython-input-10-3915fb8c8ba6>\u001b[0m in \u001b[0;36m<module>\u001b[0;34m\u001b[0m\n\u001b[1;32m      2\u001b[0m \u001b[0;31m# An equal weight is assumed for each of the cryptocurrency\u001b[0m\u001b[0;34m\u001b[0m\u001b[0;34m\u001b[0m\u001b[0;34m\u001b[0m\u001b[0m\n\u001b[1;32m      3\u001b[0m \u001b[0;31m# And therefore the strategy returns are divided by the number of positions\u001b[0m\u001b[0;34m\u001b[0m\u001b[0;34m\u001b[0m\u001b[0;34m\u001b[0m\u001b[0m\n\u001b[0;32m----> 4\u001b[0;31m \u001b[0mdaily_ret\u001b[0m \u001b[0;34m=\u001b[0m \u001b[0mstrategy_returns\u001b[0m\u001b[0;34m.\u001b[0m\u001b[0msum\u001b[0m\u001b[0;34m(\u001b[0m\u001b[0maxis\u001b[0m\u001b[0;34m=\u001b[0m\u001b[0;36m1\u001b[0m\u001b[0;34m)\u001b[0m \u001b[0;34m/\u001b[0m \u001b[0msignal\u001b[0m\u001b[0;34m.\u001b[0m\u001b[0msum\u001b[0m\u001b[0;34m(\u001b[0m\u001b[0maxis\u001b[0m\u001b[0;34m=\u001b[0m\u001b[0;36m1\u001b[0m\u001b[0;34m)\u001b[0m\u001b[0;34m\u001b[0m\u001b[0;34m\u001b[0m\u001b[0m\n\u001b[0m\u001b[1;32m      5\u001b[0m \u001b[0;34m\u001b[0m\u001b[0m\n\u001b[1;32m      6\u001b[0m \u001b[0;31m# Plot the cumulative strategy returns\u001b[0m\u001b[0;34m\u001b[0m\u001b[0;34m\u001b[0m\u001b[0;34m\u001b[0m\u001b[0m\n",
      "\u001b[0;31mNameError\u001b[0m: name 'strategy_returns' is not defined"
     ]
    }
   ],
   "source": [
    "# Compute the strategy returns for all the cryptocurrencies in the portfolio.\n",
    "# An equal weight is assumed for each of the cryptocurrency\n",
    "# And therefore the strategy returns are divided by the number of positions\n",
    "daily_ret = strategy_returns.sum(axis=1) / signal.sum(axis=1)\n",
    "\n",
    "# Plot the cumulative strategy returns\n",
    "daily_ret.cumsum().plot(figsize=(10, 7))\n",
    "plt.xlabel('Date')\n",
    "plt.ylabel('Strategy Returns (%)')\n",
    "plt.show()"
   ]
  },
  {
   "cell_type": "markdown",
   "metadata": {},
   "source": [
    "# Sharpe Ratio"
   ]
  },
  {
   "cell_type": "code",
   "execution_count": 11,
   "metadata": {},
   "outputs": [
    {
     "ename": "NameError",
     "evalue": "name 'daily_ret' is not defined",
     "output_type": "error",
     "traceback": [
      "\u001b[0;31m---------------------------------------------------------------------------\u001b[0m",
      "\u001b[0;31mNameError\u001b[0m                                 Traceback (most recent call last)",
      "\u001b[0;32m<ipython-input-11-006db954850e>\u001b[0m in \u001b[0;36m<module>\u001b[0;34m\u001b[0m\n\u001b[1;32m      6\u001b[0m \u001b[0;34m\u001b[0m\u001b[0m\n\u001b[1;32m      7\u001b[0m \u001b[0;31m# Sharpe ratio\u001b[0m\u001b[0;34m\u001b[0m\u001b[0;34m\u001b[0m\u001b[0;34m\u001b[0m\u001b[0m\n\u001b[0;32m----> 8\u001b[0;31m \u001b[0mexcess_daily_strategy_return\u001b[0m \u001b[0;34m=\u001b[0m \u001b[0mdaily_ret\u001b[0m \u001b[0;34m-\u001b[0m \u001b[0;36m0.05\u001b[0m\u001b[0;34m/\u001b[0m\u001b[0;36m252\u001b[0m\u001b[0;34m\u001b[0m\u001b[0;34m\u001b[0m\u001b[0m\n\u001b[0m\u001b[1;32m      9\u001b[0m \u001b[0msharpe\u001b[0m \u001b[0;34m=\u001b[0m \u001b[0mannualized_sharpe_ratio\u001b[0m\u001b[0;34m(\u001b[0m\u001b[0mexcess_daily_strategy_return\u001b[0m\u001b[0;34m)\u001b[0m\u001b[0;34m\u001b[0m\u001b[0;34m\u001b[0m\u001b[0m\n\u001b[1;32m     10\u001b[0m \u001b[0mprint\u001b[0m\u001b[0;34m(\u001b[0m\u001b[0;34m'Sharpe'\u001b[0m\u001b[0;34m,\u001b[0m \u001b[0msharpe\u001b[0m\u001b[0;34m)\u001b[0m\u001b[0;34m\u001b[0m\u001b[0;34m\u001b[0m\u001b[0m\n",
      "\u001b[0;31mNameError\u001b[0m: name 'daily_ret' is not defined"
     ]
    }
   ],
   "source": [
    "import numpy as np\n",
    "\n",
    "# The below function returns the Sharpe ratio for the excess returns ((Strategy returns) - (Risk-free rate)) passed to it.\n",
    "def annualized_sharpe_ratio(returns, N=252):\n",
    "    return np.sqrt(N) * returns.mean() / returns.std()\n",
    "\n",
    "# Sharpe ratio\n",
    "excess_daily_strategy_return = daily_ret - 0.05/252\n",
    "sharpe = annualized_sharpe_ratio(excess_daily_strategy_return)\n",
    "print('Sharpe', sharpe)"
   ]
  },
  {
   "cell_type": "markdown",
   "metadata": {},
   "source": [
    "The strategy has a Sharpe ratio of 1.76. If you have an account with an exchange that allows you to short cryptos then you can modify the strategy to short the bottom 50% of the universe. This long-short strategy is expected to be more stable compared to the long-only strategy. <BR><BR>"
   ]
  },
  {
   "cell_type": "code",
   "execution_count": null,
   "metadata": {},
   "outputs": [],
   "source": []
  }
 ],
 "metadata": {
  "kernelspec": {
   "display_name": "Python 3",
   "language": "python",
   "name": "python3"
  },
  "language_info": {
   "codemirror_mode": {
    "name": "ipython",
    "version": 3
   },
   "file_extension": ".py",
   "mimetype": "text/x-python",
   "name": "python",
   "nbconvert_exporter": "python",
   "pygments_lexer": "ipython3",
   "version": "3.8.5"
  }
 },
 "nbformat": 4,
 "nbformat_minor": 1
}
