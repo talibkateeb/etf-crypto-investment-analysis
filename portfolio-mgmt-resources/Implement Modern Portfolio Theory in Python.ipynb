{
 "cells": [
  {
   "cell_type": "markdown",
   "metadata": {},
   "source": [
    "# Notebook Instructions\n",
    "\n",
    "1. All the <u>code and data files</u> used in this course are available in the downloadable unit of the <u>last section of this course</u>.\n",
    "2. You can run the notebook document sequentially (one cell at a time) by pressing **shift + enter**. \n",
    "3. While a cell is running, a [*] is shown on the left. After the cell is run, the output will appear on the next line.\n",
    "\n",
    "This course is based on specific versions of python packages. You can find the details of the packages in <a href='https://quantra.quantinsti.com/quantra-notebook' target=\"_blank\" >this manual</a>."
   ]
  },
  {
   "cell_type": "markdown",
   "metadata": {},
   "source": [
    "## Modern Portfolio Theory\n",
    "In this notebook, you will practice the concepts learned in the previous video of Modern Portfolio Theory. The steps involved are:\n",
    "\n",
    "1. Import the data\n",
    "2. Portfolio returns/portfolio standard deviation\n",
    "5. Change the stocks\n",
    "6. Change the values of a and b\n",
    "7. Efficient frontier\n",
    "8. Optimal weights"
   ]
  },
  {
   "cell_type": "markdown",
   "metadata": {},
   "source": [
    "### Import the libraries"
   ]
  },
  {
   "cell_type": "code",
   "execution_count": 1,
   "metadata": {},
   "outputs": [],
   "source": [
    "# Importing the necessary Python modules required in this notebook \n",
    "import pandas as pd\n",
    "import math\n",
    "import numpy as np\n",
    "import matplotlib.pyplot as plt"
   ]
  },
  {
   "cell_type": "markdown",
   "metadata": {},
   "source": [
    "### Import the data\n",
    "We have imported and saved the prices of the stocks, Chevron (CVX), Microsoft (MSFT) and Google (GOOGL) in a CSV file. You will read the CSV file and save in a dataframe. To do this, you will be using pandas `read_csv()` method."
   ]
  },
  {
   "cell_type": "code",
   "execution_count": 2,
   "metadata": {},
   "outputs": [
    {
     "data": {
      "text/html": [
       "<div>\n",
       "<style scoped>\n",
       "    .dataframe tbody tr th:only-of-type {\n",
       "        vertical-align: middle;\n",
       "    }\n",
       "\n",
       "    .dataframe tbody tr th {\n",
       "        vertical-align: top;\n",
       "    }\n",
       "\n",
       "    .dataframe thead th {\n",
       "        text-align: right;\n",
       "    }\n",
       "</style>\n",
       "<table border=\"1\" class=\"dataframe\">\n",
       "  <thead>\n",
       "    <tr style=\"text-align: right;\">\n",
       "      <th></th>\n",
       "      <th>CVX</th>\n",
       "      <th>GOOGL</th>\n",
       "      <th>MSFT</th>\n",
       "    </tr>\n",
       "    <tr>\n",
       "      <th>Date</th>\n",
       "      <th></th>\n",
       "      <th></th>\n",
       "      <th></th>\n",
       "    </tr>\n",
       "  </thead>\n",
       "  <tbody>\n",
       "    <tr>\n",
       "      <th>22-12-2017</th>\n",
       "      <td>124.98</td>\n",
       "      <td>1068.859985</td>\n",
       "      <td>85.51</td>\n",
       "    </tr>\n",
       "    <tr>\n",
       "      <th>26-12-2017</th>\n",
       "      <td>125.98</td>\n",
       "      <td>1065.849976</td>\n",
       "      <td>85.40</td>\n",
       "    </tr>\n",
       "    <tr>\n",
       "      <th>27-12-2017</th>\n",
       "      <td>125.55</td>\n",
       "      <td>1060.199951</td>\n",
       "      <td>85.71</td>\n",
       "    </tr>\n",
       "    <tr>\n",
       "      <th>28-12-2017</th>\n",
       "      <td>125.58</td>\n",
       "      <td>1055.949951</td>\n",
       "      <td>85.72</td>\n",
       "    </tr>\n",
       "    <tr>\n",
       "      <th>29-12-2017</th>\n",
       "      <td>125.19</td>\n",
       "      <td>1053.400024</td>\n",
       "      <td>85.54</td>\n",
       "    </tr>\n",
       "  </tbody>\n",
       "</table>\n",
       "</div>"
      ],
      "text/plain": [
       "               CVX        GOOGL   MSFT\n",
       "Date                                  \n",
       "22-12-2017  124.98  1068.859985  85.51\n",
       "26-12-2017  125.98  1065.849976  85.40\n",
       "27-12-2017  125.55  1060.199951  85.71\n",
       "28-12-2017  125.58  1055.949951  85.72\n",
       "29-12-2017  125.19  1053.400024  85.54"
      ]
     },
     "execution_count": 2,
     "metadata": {},
     "output_type": "execute_result"
    }
   ],
   "source": [
    "# Read CSV to get the prices\n",
    "stock_prices = pd.read_csv(\n",
    "    '../data_modules/Stock_Prices_2016_To_2017_MPT.csv', index_col=0)\n",
    "\n",
    "stock_prices.tail()"
   ]
  },
  {
   "cell_type": "markdown",
   "metadata": {},
   "source": [
    "### Portfolio returns/portfolio standard deviation - you already know this!"
   ]
  },
  {
   "cell_type": "markdown",
   "metadata": {},
   "source": [
    "First let us calculate the annualised returns and annualised standard deviation of the stocks. You learned the calculation in the previous IPython notebook."
   ]
  },
  {
   "cell_type": "code",
   "execution_count": 3,
   "metadata": {},
   "outputs": [],
   "source": [
    "# Calculate annualised returns\n",
    "annual_returns = ((((stock_prices.iloc[-1]-stock_prices.iloc[0]) /\n",
    "                    stock_prices.iloc[0])+1)**(252/len(stock_prices)) - 1)\n",
    "\n",
    "# Calculate the daily returns\n",
    "daily_returns = stock_prices.pct_change()\n",
    "\n",
    "# Drop the rows with NaN values\n",
    "daily_returns.dropna(inplace=True)\n",
    "\n",
    "# Calculate the standard deviation of the stocks and annualise it by multiplying with sqrt(252)\n",
    "annual_std_dev = daily_returns.std()*math.sqrt(252)"
   ]
  },
  {
   "cell_type": "markdown",
   "metadata": {},
   "source": [
    "Calculate the returns and standard deviation of the portfolio with Microsoft (MSFT) and Google (GOOGL)."
   ]
  },
  {
   "cell_type": "code",
   "execution_count": 4,
   "metadata": {},
   "outputs": [],
   "source": [
    "# Assume equal weights\n",
    "a = 0.5\n",
    "b = 0.5\n",
    "\n",
    "# Calculate portfolio returns\n",
    "portfolio_returns = a*annual_returns['MSFT'] + b*annual_returns['GOOGL']\n",
    "\n",
    "# Calculate the covariance of the stocks and annualise it by multiplying with 252\n",
    "cov_msft_googl = np.cov(\n",
    "    daily_returns['MSFT'], daily_returns['GOOGL'], bias=True)*252\n",
    "\n",
    "# Calculate portfolio standard deviation\n",
    "portfolio_std_dev = math.sqrt((a**2)*(annual_std_dev['MSFT']**2) + (b**2)*(annual_std_dev['GOOGL']**2)\n",
    "                              + 2*a*b*cov_msft_googl[0, 1])"
   ]
  },
  {
   "cell_type": "markdown",
   "metadata": {},
   "source": [
    "We have learned in the previous video that Modern Portfolio Theory maximizes the ratio of portfolio returns/portfolio standard deviation. Let us calculate the ratio for the portfolio you have created with Microsoft (MSFT) and Google (GOOGL)."
   ]
  },
  {
   "cell_type": "code",
   "execution_count": 5,
   "metadata": {},
   "outputs": [
    {
     "name": "stdout",
     "output_type": "stream",
     "text": [
      "The (Portfolio returns/portfolio standard deviation) is:  1.27\n"
     ]
    }
   ],
   "source": [
    "print(\"The (Portfolio returns/portfolio standard deviation) is: \",\n",
    "      round(portfolio_returns/portfolio_std_dev, 2))"
   ]
  },
  {
   "cell_type": "markdown",
   "metadata": {},
   "source": [
    "### Change the stocks"
   ]
  },
  {
   "cell_type": "markdown",
   "metadata": {},
   "source": [
    "The first case to improve the ratio is by choosing stocks that have less covariance. Calculate the covariance between CVX and MSFT."
   ]
  },
  {
   "cell_type": "code",
   "execution_count": 6,
   "metadata": {},
   "outputs": [
    {
     "name": "stdout",
     "output_type": "stream",
     "text": [
      "The covariance of MSFT and GOOGL is:  0.022831919907907727\n",
      "The covariance of MSFT and CVX is:  0.009435350672403356\n"
     ]
    }
   ],
   "source": [
    "# Print the covariance value of MSFT and GOOGL\n",
    "print(\"The covariance of MSFT and GOOGL is: \", cov_msft_googl[0, 1])\n",
    "\n",
    "# Calculate the covariance between CVX and MSFT and annualise it by multiplying with 252\n",
    "cov_msft_cvx = np.cov(daily_returns['CVX'],\n",
    "                      daily_returns['MSFT'], bias=True)*252\n",
    "\n",
    "# Print the covariance value of MSFT and CVX\n",
    "print(\"The covariance of MSFT and CVX is: \", cov_msft_cvx[0, 1])"
   ]
  },
  {
   "cell_type": "markdown",
   "metadata": {},
   "source": [
    "In the above step, you can see that the covariance value is less than the covariance between GOOGL and MSFT."
   ]
  },
  {
   "cell_type": "markdown",
   "metadata": {},
   "source": [
    "Calculate the portfolio returns and portfolio standard deviation of MSFT and CVX. Calculate portfolio returns/portfolio standard deviation."
   ]
  },
  {
   "cell_type": "code",
   "execution_count": 7,
   "metadata": {},
   "outputs": [
    {
     "name": "stdout",
     "output_type": "stream",
     "text": [
      "The Portfolio returns are:  21.87%\n",
      "The Portfolio standard deviation is:  15.32%\n",
      "The (Portfolio returns/portfolio standard deviation) is:  1.43\n"
     ]
    }
   ],
   "source": [
    "# Calculate portfolio returns by multiplying the annualised returns with their weights\n",
    "portfolio_returns = a*annual_returns['CVX'] + b*annual_returns['MSFT']\n",
    "print(\"The Portfolio returns are: \", str(round(portfolio_returns, 4)*100)+\"%\")\n",
    "\n",
    "# Calculate portfolio standard deviation using the annualised standard deviation and the covariance of the stocks\n",
    "portfolio_std_dev = math.sqrt((a**2)*(annual_std_dev['CVX']**2) + (\n",
    "    b**2)*(annual_std_dev['MSFT']**2) + 2*a*b*cov_msft_cvx[0, 1])\n",
    "\n",
    "print(\"The Portfolio standard deviation is: \",\n",
    "      str(round(portfolio_std_dev*100, 2))+\"%\")\n",
    "\n",
    "print(\"The (Portfolio returns/portfolio standard deviation) is: \",\n",
    "      round(portfolio_returns/portfolio_std_dev, 2))"
   ]
  },
  {
   "cell_type": "markdown",
   "metadata": {},
   "source": [
    "You can see that the value of portfolio returns/portfolio standard deviation has increased."
   ]
  },
  {
   "cell_type": "markdown",
   "metadata": {},
   "source": [
    "### Change the weights"
   ]
  },
  {
   "cell_type": "markdown",
   "metadata": {},
   "source": [
    "The other way to improve the ratio is by changing the percentage capital allocations of the portfolio with Chevron (CVX) and Microsoft (MSFT). \n",
    "\n",
    "Let's generate 500 portfolios with different percentage allocations. You will calculate portfolio returns and portfolio standard deviation for all the portfolios and save it into a dataframe. You will save the portfolio returns/portfolio standard deviation along with the weights, that is a and b values"
   ]
  },
  {
   "cell_type": "code",
   "execution_count": 8,
   "metadata": {},
   "outputs": [],
   "source": [
    "# Create an empty dataframe\n",
    "portfolio = pd.DataFrame()\n",
    "\n",
    "# Initialize the number of portfolios\n",
    "num_of_portfolios = 500\n",
    "\n",
    "# Run the loop for each portfolio\n",
    "for i in range(num_of_portfolios):\n",
    "    # Generate a and b values randomly by using numpy random function.\n",
    "    # The argument '1' ensures the values generated are between 0 and 1\n",
    "    a = np.random.random(1)[0]\n",
    "    b = 1-a\n",
    "    portfolio.loc[i, 'cvx_weight'] = a\n",
    "    portfolio.loc[i, 'msft_weight'] = b\n",
    "\n",
    "    # Save the portfolio returns and portfolio standard deviation values along with its ratio\n",
    "    portfolio.loc[i, 'returns'] = a * \\\n",
    "        annual_returns['CVX'] + b*annual_returns['MSFT']\n",
    "\n",
    "    portfolio.loc[i, 'std_dev'] = math.sqrt((a**2)*(annual_std_dev['CVX']**2) +\n",
    "                                            (b**2)*(annual_std_dev['MSFT']**2)\n",
    "                                            + 2*a*b*cov_msft_cvx[0, 1])\n",
    "\n",
    "    portfolio.loc[i, 'returns/std_dev'] = portfolio.loc[i, 'returns'] / \\\n",
    "        portfolio.loc[i, 'std_dev']"
   ]
  },
  {
   "cell_type": "markdown",
   "metadata": {},
   "source": [
    "### Identify the portfolios with maximum returns/risk and minimum risk"
   ]
  },
  {
   "cell_type": "markdown",
   "metadata": {},
   "source": [
    "Let's identify the portfolio with maximum returns/standard deviation. We will also identify the portfolio with minimum standard deviation."
   ]
  },
  {
   "cell_type": "code",
   "execution_count": 9,
   "metadata": {},
   "outputs": [],
   "source": [
    "# Identify the portfolio with maximum returns/standard deviation using idxmax() function\n",
    "max_ret_by_std_dev = portfolio.iloc[portfolio['returns/std_dev'].idxmax()]\n",
    "\n",
    "# Similarly identify the portfolio with minimum standard deviation\n",
    "min_std_dev = portfolio.iloc[portfolio['std_dev'].idxmin()]"
   ]
  },
  {
   "cell_type": "markdown",
   "metadata": {},
   "source": [
    "### Efficient frontier"
   ]
  },
  {
   "cell_type": "markdown",
   "metadata": {},
   "source": [
    "We will plot all the 500 portfolios in a graph with portfolio standard deviation on the X-axis and portfolio returns on the Y-axis. The curve generated is known as the <b>Efficient Frontier</b>"
   ]
  },
  {
   "cell_type": "code",
   "execution_count": 10,
   "metadata": {},
   "outputs": [
    {
     "data": {
      "image/png": "[encoded data removed]",
      "text/plain": [
       "<Figure size 720x504 with 1 Axes>"
      ]
     },
     "metadata": {
      "needs_background": "light"
     },
     "output_type": "display_data"
    }
   ],
   "source": [
    "# Plot the portfolios\n",
    "plt.figure(figsize=(10, 7))\n",
    "plt.grid()\n",
    "plt.xlabel('Portfolio Standard Deviation', fontsize=14)\n",
    "plt.xticks(fontsize=12)\n",
    "plt.ylabel('Portfolio Returns', fontsize=14)\n",
    "plt.yticks(fontsize=12)\n",
    "plt.title('Portfolio Optimization based on Efficient Frontier', fontsize=20)\n",
    "plt.scatter(portfolio.std_dev, portfolio.returns, label='Random Portfolios')\n",
    "plt.legend(loc='best', fontsize=14)\n",
    "plt.show()"
   ]
  },
  {
   "cell_type": "code",
   "execution_count": 11,
   "metadata": {},
   "outputs": [
    {
     "data": {
      "image/png": "[encoded data removed]",
      "text/plain": [
       "<Figure size 720x504 with 1 Axes>"
      ]
     },
     "metadata": {
      "needs_background": "light"
     },
     "output_type": "display_data"
    }
   ],
   "source": [
    "# Highlight the maximum returns/risk portfolio and minimum risk portfolio\n",
    "plt.figure(figsize=(10, 7))\n",
    "plt.grid()\n",
    "plt.scatter(portfolio.std_dev, portfolio.returns, label='Random Portfolios')\n",
    "plt.scatter(max_ret_by_std_dev.std_dev, max_ret_by_std_dev.returns,\n",
    "            marker='*', s=200, color='r', label='Maximum Ret/Risk Portfolio')\n",
    "plt.scatter(min_std_dev.std_dev, min_std_dev.returns,\n",
    "            marker='*', s=200, color='darkorange', label='Minimum Risk Portfolio')\n",
    "plt.xlabel('Portfolio Standard Deviation', fontsize=14)\n",
    "plt.xticks(fontsize=12)\n",
    "plt.ylabel('Portfolio Returns', fontsize=14)\n",
    "plt.yticks(fontsize=12)\n",
    "plt.legend(loc='best', fontsize=14)\n",
    "plt.title('Portfolio Optimization based on Efficient Frontier', fontsize=20)\n",
    "plt.show()"
   ]
  },
  {
   "cell_type": "markdown",
   "metadata": {},
   "source": [
    "### Obtain the optimal weights"
   ]
  },
  {
   "cell_type": "markdown",
   "metadata": {},
   "source": [
    "You have saved the weights also while creating the portfolios. You can get the optimal weights of the portfolio with maximum returns/standard deviation value."
   ]
  },
  {
   "cell_type": "code",
   "execution_count": 12,
   "metadata": {},
   "outputs": [
    {
     "name": "stdout",
     "output_type": "stream",
     "text": [
      "The optimal weight of MSFT is:  36.61%\n",
      "The optimal weight of CVX is:  63.39%\n"
     ]
    }
   ],
   "source": [
    "# Use iloc on the row to obtain the optimal weights\n",
    "optimal_weights = max_ret_by_std_dev[[\"cvx_weight\", \"msft_weight\"]]\n",
    "\n",
    "# Print the optimal weights of MSFT and CVX\n",
    "print(\"The optimal weight of MSFT is: \", str(\n",
    "    round(optimal_weights[0]*100, 2))+\"%\")\n",
    "\n",
    "print(\"The optimal weight of CVX is: \", str(\n",
    "    round(optimal_weights[1]*100, 2))+\"%\")"
   ]
  },
  {
   "cell_type": "markdown",
   "metadata": {},
   "source": [
    "In the next section, you will learn how to extend these concepts to a portfolio with multiple stocks.<br><br>"
   ]
  }
 ],
 "metadata": {
  "kernelspec": {
   "display_name": "Python 3",
   "language": "python",
   "name": "python3"
  },
  "language_info": {
   "codemirror_mode": {
    "name": "ipython",
    "version": 3
   },
   "file_extension": ".py",
   "mimetype": "text/x-python",
   "name": "python",
   "nbconvert_exporter": "python",
   "pygments_lexer": "ipython3",
   "version": "3.7.4"
  }
 },
 "nbformat": 4,
 "nbformat_minor": 2
}
