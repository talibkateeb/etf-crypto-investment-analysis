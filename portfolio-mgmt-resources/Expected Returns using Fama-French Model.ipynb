{
 "cells": [
  {
   "cell_type": "markdown",
   "metadata": {},
   "source": [
    "# Notebook Instructions\n",
    "\n",
    "1. All the <u>code and data files</u> used in this course are available in the downloadable unit of the <u>last section of this course</u>.\n",
    "2. You can run the notebook document sequentially (one cell at a time) by pressing **shift + enter**. \n",
    "3. While a cell is running, a [*] is shown on the left. After the cell is run, the output will appear on the next line.\n",
    "\n",
    "This course is based on specific versions of python packages. You can find the details of the packages in <a href='https://quantra.quantinsti.com/quantra-notebook' target=\"_blank\" >this manual</a>."
   ]
  },
  {
   "cell_type": "markdown",
   "metadata": {},
   "source": [
    "# Fama-French Three-Factor Model\n",
    "\n",
    "In this notebook, you will learn to calculate the expected returns of the stock using Fama-French three-factor Model.\n",
    "\n",
    "The steps for the same:\n",
    "\n",
    "1. Read the data from CSV\n",
    "2. Calculate the daily and excess returns of stock\n",
    "3. Calculate the coefficients of Fama-French factors\n",
    "4. Calculate the annualised returns of Fama-French factors\n",
    "5. Calculate the expected returns of stock \n",
    "\n",
    "![title](https://d2a032ejo53cab.cloudfront.net/Glossary/qbbVNWuq/FF.PNG)"
   ]
  },
  {
   "cell_type": "markdown",
   "metadata": {},
   "source": [
    "### Read the data from CSV\n",
    "The `read_csv()` function is used to read the data from the CSV file. We will read the data for excess market returns (Rm-Rf), Small minus Big (SMB), High minus Low (HML), risk-free rate (Rf) and the price of the Amazon (AMZN). The data we are using for the calculation of expected returns is from 02-June-2016 to 30-April-2019. This is arbitrarily chosen period for illustration purpose.\n",
    "\n",
    "We have downloaded the data for excess market returns (Rm-Rf), Small minus Big (SMB), High minus Low (HML), and risk-free rate (Rf) from [here](https://mba.tuck.dartmouth.edu/pages/faculty/ken.french/data_library.html)."
   ]
  },
  {
   "cell_type": "code",
   "execution_count": 1,
   "metadata": {
    "scrolled": true
   },
   "outputs": [
    {
     "data": {
      "text/html": [
       "<div>\n",
       "<style scoped>\n",
       "    .dataframe tbody tr th:only-of-type {\n",
       "        vertical-align: middle;\n",
       "    }\n",
       "\n",
       "    .dataframe tbody tr th {\n",
       "        vertical-align: top;\n",
       "    }\n",
       "\n",
       "    .dataframe thead th {\n",
       "        text-align: right;\n",
       "    }\n",
       "</style>\n",
       "<table border=\"1\" class=\"dataframe\">\n",
       "  <thead>\n",
       "    <tr style=\"text-align: right;\">\n",
       "      <th></th>\n",
       "      <th>market_excess_returns</th>\n",
       "      <th>SMB</th>\n",
       "      <th>HML</th>\n",
       "      <th>risk_free_rate</th>\n",
       "      <th>amazon_price</th>\n",
       "    </tr>\n",
       "    <tr>\n",
       "      <th>date</th>\n",
       "      <th></th>\n",
       "      <th></th>\n",
       "      <th></th>\n",
       "      <th></th>\n",
       "      <th></th>\n",
       "    </tr>\n",
       "  </thead>\n",
       "  <tbody>\n",
       "    <tr>\n",
       "      <th>2019-04-24</th>\n",
       "      <td>-0.23</td>\n",
       "      <td>0.31</td>\n",
       "      <td>-0.22</td>\n",
       "      <td>0.01</td>\n",
       "      <td>207.16</td>\n",
       "    </tr>\n",
       "    <tr>\n",
       "      <th>2019-04-25</th>\n",
       "      <td>-0.14</td>\n",
       "      <td>-0.70</td>\n",
       "      <td>-0.27</td>\n",
       "      <td>0.01</td>\n",
       "      <td>205.28</td>\n",
       "    </tr>\n",
       "    <tr>\n",
       "      <th>2019-04-26</th>\n",
       "      <td>0.53</td>\n",
       "      <td>0.43</td>\n",
       "      <td>0.05</td>\n",
       "      <td>0.01</td>\n",
       "      <td>204.30</td>\n",
       "    </tr>\n",
       "    <tr>\n",
       "      <th>2019-04-29</th>\n",
       "      <td>0.18</td>\n",
       "      <td>0.12</td>\n",
       "      <td>0.61</td>\n",
       "      <td>0.01</td>\n",
       "      <td>204.61</td>\n",
       "    </tr>\n",
       "    <tr>\n",
       "      <th>2019-04-30</th>\n",
       "      <td>-0.04</td>\n",
       "      <td>-0.71</td>\n",
       "      <td>0.27</td>\n",
       "      <td>0.01</td>\n",
       "      <td>200.67</td>\n",
       "    </tr>\n",
       "  </tbody>\n",
       "</table>\n",
       "</div>"
      ],
      "text/plain": [
       "            market_excess_returns   SMB   HML  risk_free_rate  amazon_price\n",
       "date                                                                       \n",
       "2019-04-24                  -0.23  0.31 -0.22            0.01        207.16\n",
       "2019-04-25                  -0.14 -0.70 -0.27            0.01        205.28\n",
       "2019-04-26                   0.53  0.43  0.05            0.01        204.30\n",
       "2019-04-29                   0.18  0.12  0.61            0.01        204.61\n",
       "2019-04-30                  -0.04 -0.71  0.27            0.01        200.67"
      ]
     },
     "execution_count": 1,
     "metadata": {},
     "output_type": "execute_result"
    }
   ],
   "source": [
    "# Import the pandas library\n",
    "import pandas as pd\n",
    "\n",
    "# Read the data\n",
    "data = pd.read_csv('../data_modules/Data_2016_to_2019_FF.csv',\n",
    "                   index_col=0, parse_dates=['date'])\n",
    "\n",
    "# Print first five rows of data\n",
    "data.tail()"
   ]
  },
  {
   "cell_type": "markdown",
   "metadata": {},
   "source": [
    "### Calculate the daily Amazon returns\n",
    "\n",
    "The `pct_change()` function is used to calculate the daily percentage change"
   ]
  },
  {
   "cell_type": "code",
   "execution_count": 2,
   "metadata": {},
   "outputs": [
    {
     "data": {
      "text/html": [
       "<div>\n",
       "<style scoped>\n",
       "    .dataframe tbody tr th:only-of-type {\n",
       "        vertical-align: middle;\n",
       "    }\n",
       "\n",
       "    .dataframe tbody tr th {\n",
       "        vertical-align: top;\n",
       "    }\n",
       "\n",
       "    .dataframe thead th {\n",
       "        text-align: right;\n",
       "    }\n",
       "</style>\n",
       "<table border=\"1\" class=\"dataframe\">\n",
       "  <thead>\n",
       "    <tr style=\"text-align: right;\">\n",
       "      <th></th>\n",
       "      <th>market_excess_returns</th>\n",
       "      <th>SMB</th>\n",
       "      <th>HML</th>\n",
       "      <th>risk_free_rate</th>\n",
       "      <th>amazon_price</th>\n",
       "      <th>daily_amazon_returns</th>\n",
       "    </tr>\n",
       "    <tr>\n",
       "      <th>date</th>\n",
       "      <th></th>\n",
       "      <th></th>\n",
       "      <th></th>\n",
       "      <th></th>\n",
       "      <th></th>\n",
       "      <th></th>\n",
       "    </tr>\n",
       "  </thead>\n",
       "  <tbody>\n",
       "    <tr>\n",
       "      <th>2016-05-03</th>\n",
       "      <td>-1.05</td>\n",
       "      <td>-0.66</td>\n",
       "      <td>-0.49</td>\n",
       "      <td>0.001</td>\n",
       "      <td>95.18</td>\n",
       "      <td>1.644596</td>\n",
       "    </tr>\n",
       "    <tr>\n",
       "      <th>2016-05-04</th>\n",
       "      <td>-0.66</td>\n",
       "      <td>-0.15</td>\n",
       "      <td>0.06</td>\n",
       "      <td>0.001</td>\n",
       "      <td>94.19</td>\n",
       "      <td>-1.040134</td>\n",
       "    </tr>\n",
       "    <tr>\n",
       "      <th>2016-05-05</th>\n",
       "      <td>-0.08</td>\n",
       "      <td>-0.50</td>\n",
       "      <td>0.09</td>\n",
       "      <td>0.001</td>\n",
       "      <td>93.24</td>\n",
       "      <td>-1.008600</td>\n",
       "    </tr>\n",
       "    <tr>\n",
       "      <th>2016-05-06</th>\n",
       "      <td>0.38</td>\n",
       "      <td>0.05</td>\n",
       "      <td>0.24</td>\n",
       "      <td>0.001</td>\n",
       "      <td>92.72</td>\n",
       "      <td>-0.557701</td>\n",
       "    </tr>\n",
       "    <tr>\n",
       "      <th>2016-05-09</th>\n",
       "      <td>0.05</td>\n",
       "      <td>0.36</td>\n",
       "      <td>-1.48</td>\n",
       "      <td>0.001</td>\n",
       "      <td>92.79</td>\n",
       "      <td>0.075496</td>\n",
       "    </tr>\n",
       "  </tbody>\n",
       "</table>\n",
       "</div>"
      ],
      "text/plain": [
       "            market_excess_returns   SMB   HML  risk_free_rate  amazon_price  \\\n",
       "date                                                                          \n",
       "2016-05-03                  -1.05 -0.66 -0.49           0.001         95.18   \n",
       "2016-05-04                  -0.66 -0.15  0.06           0.001         94.19   \n",
       "2016-05-05                  -0.08 -0.50  0.09           0.001         93.24   \n",
       "2016-05-06                   0.38  0.05  0.24           0.001         92.72   \n",
       "2016-05-09                   0.05  0.36 -1.48           0.001         92.79   \n",
       "\n",
       "            daily_amazon_returns  \n",
       "date                              \n",
       "2016-05-03              1.644596  \n",
       "2016-05-04             -1.040134  \n",
       "2016-05-05             -1.008600  \n",
       "2016-05-06             -0.557701  \n",
       "2016-05-09              0.075496  "
      ]
     },
     "execution_count": 2,
     "metadata": {},
     "output_type": "execute_result"
    }
   ],
   "source": [
    "# Calculate the daily returns of Amazon\n",
    "data['daily_amazon_returns'] = data.amazon_price.pct_change() * 100\n",
    "\n",
    "# Drop the NaN values\n",
    "data = data.dropna()\n",
    "\n",
    "# Print first five rows of data\n",
    "data.head()"
   ]
  },
  {
   "cell_type": "markdown",
   "metadata": {},
   "source": [
    "### Calculate the Amazon excess returns\n",
    "Amazon excess returns are calculated by subtracting risk-free rate from daily Amazon returns. \n"
   ]
  },
  {
   "cell_type": "code",
   "execution_count": 3,
   "metadata": {},
   "outputs": [
    {
     "data": {
      "text/html": [
       "<div>\n",
       "<style scoped>\n",
       "    .dataframe tbody tr th:only-of-type {\n",
       "        vertical-align: middle;\n",
       "    }\n",
       "\n",
       "    .dataframe tbody tr th {\n",
       "        vertical-align: top;\n",
       "    }\n",
       "\n",
       "    .dataframe thead th {\n",
       "        text-align: right;\n",
       "    }\n",
       "</style>\n",
       "<table border=\"1\" class=\"dataframe\">\n",
       "  <thead>\n",
       "    <tr style=\"text-align: right;\">\n",
       "      <th></th>\n",
       "      <th>market_excess_returns</th>\n",
       "      <th>SMB</th>\n",
       "      <th>HML</th>\n",
       "      <th>risk_free_rate</th>\n",
       "      <th>amazon_price</th>\n",
       "      <th>daily_amazon_returns</th>\n",
       "      <th>amazon_excess_returns</th>\n",
       "    </tr>\n",
       "    <tr>\n",
       "      <th>date</th>\n",
       "      <th></th>\n",
       "      <th></th>\n",
       "      <th></th>\n",
       "      <th></th>\n",
       "      <th></th>\n",
       "      <th></th>\n",
       "      <th></th>\n",
       "    </tr>\n",
       "  </thead>\n",
       "  <tbody>\n",
       "    <tr>\n",
       "      <th>2016-05-03</th>\n",
       "      <td>-1.05</td>\n",
       "      <td>-0.66</td>\n",
       "      <td>-0.49</td>\n",
       "      <td>0.001</td>\n",
       "      <td>95.18</td>\n",
       "      <td>1.644596</td>\n",
       "      <td>1.643596</td>\n",
       "    </tr>\n",
       "    <tr>\n",
       "      <th>2016-05-04</th>\n",
       "      <td>-0.66</td>\n",
       "      <td>-0.15</td>\n",
       "      <td>0.06</td>\n",
       "      <td>0.001</td>\n",
       "      <td>94.19</td>\n",
       "      <td>-1.040134</td>\n",
       "      <td>-1.041134</td>\n",
       "    </tr>\n",
       "    <tr>\n",
       "      <th>2016-05-05</th>\n",
       "      <td>-0.08</td>\n",
       "      <td>-0.50</td>\n",
       "      <td>0.09</td>\n",
       "      <td>0.001</td>\n",
       "      <td>93.24</td>\n",
       "      <td>-1.008600</td>\n",
       "      <td>-1.009600</td>\n",
       "    </tr>\n",
       "    <tr>\n",
       "      <th>2016-05-06</th>\n",
       "      <td>0.38</td>\n",
       "      <td>0.05</td>\n",
       "      <td>0.24</td>\n",
       "      <td>0.001</td>\n",
       "      <td>92.72</td>\n",
       "      <td>-0.557701</td>\n",
       "      <td>-0.558701</td>\n",
       "    </tr>\n",
       "    <tr>\n",
       "      <th>2016-05-09</th>\n",
       "      <td>0.05</td>\n",
       "      <td>0.36</td>\n",
       "      <td>-1.48</td>\n",
       "      <td>0.001</td>\n",
       "      <td>92.79</td>\n",
       "      <td>0.075496</td>\n",
       "      <td>0.074496</td>\n",
       "    </tr>\n",
       "  </tbody>\n",
       "</table>\n",
       "</div>"
      ],
      "text/plain": [
       "            market_excess_returns   SMB   HML  risk_free_rate  amazon_price  \\\n",
       "date                                                                          \n",
       "2016-05-03                  -1.05 -0.66 -0.49           0.001         95.18   \n",
       "2016-05-04                  -0.66 -0.15  0.06           0.001         94.19   \n",
       "2016-05-05                  -0.08 -0.50  0.09           0.001         93.24   \n",
       "2016-05-06                   0.38  0.05  0.24           0.001         92.72   \n",
       "2016-05-09                   0.05  0.36 -1.48           0.001         92.79   \n",
       "\n",
       "            daily_amazon_returns  amazon_excess_returns  \n",
       "date                                                     \n",
       "2016-05-03              1.644596               1.643596  \n",
       "2016-05-04             -1.040134              -1.041134  \n",
       "2016-05-05             -1.008600              -1.009600  \n",
       "2016-05-06             -0.557701              -0.558701  \n",
       "2016-05-09              0.075496               0.074496  "
      ]
     },
     "execution_count": 3,
     "metadata": {},
     "output_type": "execute_result"
    }
   ],
   "source": [
    "# Calculate the Amazon excess returns\n",
    "data['amazon_excess_returns'] = data['daily_amazon_returns'] - \\\n",
    "    data['risk_free_rate']\n",
    "\n",
    "# Print first five rows of data\n",
    "data.head()"
   ]
  },
  {
   "cell_type": "markdown",
   "metadata": {},
   "source": [
    "### Calculate the coefficients using regression method\n",
    "We will use the ordinary least square (OLS) regression method to calculate the coefficients or regression beta of market_excess_returns, SMB, and HML. \n",
    "\n",
    "For that, we will use the OLS method from statsmodels library.\n",
    "\n",
    "Syntax:\n",
    "\n",
    "`OLS(y, X)`\n",
    "\n",
    "In our case, `y` = amazon_excess_returns and `X` = market_excess_returns, SMB, and HML"
   ]
  },
  {
   "cell_type": "code",
   "execution_count": 4,
   "metadata": {},
   "outputs": [
    {
     "name": "stdout",
     "output_type": "stream",
     "text": [
      "Beta of market_excess_returns=  1.154504672981659\n",
      "Beta of SMB=  -0.27358778926285215\n",
      "Beta of HML=  -0.7171104348708256\n"
     ]
    }
   ],
   "source": [
    "# Import the statsmodels library\n",
    "import statsmodels.api as sm\n",
    "\n",
    "# Independent variables\n",
    "X = data[['market_excess_returns', 'SMB', 'HML']]\n",
    "\n",
    "# Dependent variable\n",
    "y = data['amazon_excess_returns']\n",
    "\n",
    "# Create a regression model\n",
    "reg = sm.OLS(y, X).fit()\n",
    "\n",
    "# Print beta of market_excess_returns\n",
    "print('Beta of market_excess_returns= ', reg.params[0])\n",
    "\n",
    "# Print beta of SMB\n",
    "print('Beta of SMB= ', reg.params[1])\n",
    "\n",
    "# Print beta of HML\n",
    "print('Beta of HML= ', reg.params[2])"
   ]
  },
  {
   "cell_type": "markdown",
   "metadata": {},
   "source": [
    "### Calculate the annualised return of market excess returns, SMB returns, HML returns, risk-free rate returns"
   ]
  },
  {
   "cell_type": "code",
   "execution_count": 5,
   "metadata": {},
   "outputs": [
    {
     "data": {
      "text/plain": [
       "0.13889333362659628"
      ]
     },
     "execution_count": 5,
     "metadata": {},
     "output_type": "execute_result"
    }
   ],
   "source": [
    "# Calculate the annualised market excess returns\n",
    "annualised_market_excess_returns = (\n",
    "    (data.market_excess_returns/100 + 1).cumprod()[-1]) ** (252/len(data)) - 1\n",
    "\n",
    "# Print annualised market excess returns\n",
    "annualised_market_excess_returns"
   ]
  },
  {
   "cell_type": "code",
   "execution_count": 6,
   "metadata": {},
   "outputs": [
    {
     "data": {
      "text/plain": [
       "-0.002627390164124943"
      ]
     },
     "execution_count": 6,
     "metadata": {},
     "output_type": "execute_result"
    }
   ],
   "source": [
    "# Calculate the annualised SMB returns\n",
    "annualised_SMB_returns = ((data.SMB/100 + 1).cumprod()\n",
    "                          [-1]) ** (252/len(data)) - 1\n",
    "\n",
    "# Print annualised_SMB_returns\n",
    "annualised_SMB_returns"
   ]
  },
  {
   "cell_type": "code",
   "execution_count": 7,
   "metadata": {},
   "outputs": [
    {
     "data": {
      "text/plain": [
       "-0.048414947762249416"
      ]
     },
     "execution_count": 7,
     "metadata": {},
     "output_type": "execute_result"
    }
   ],
   "source": [
    "# Calculate the annualised HML returns\n",
    "annualised_HML_returns = ((data.HML/100 + 1).cumprod()\n",
    "                          [-1]) ** (252/len(data)) - 1\n",
    "\n",
    "# Print annualised_HML_returns\n",
    "annualised_HML_returns"
   ]
  },
  {
   "cell_type": "code",
   "execution_count": 8,
   "metadata": {},
   "outputs": [
    {
     "data": {
      "text/plain": [
       "0.01196786051367904"
      ]
     },
     "execution_count": 8,
     "metadata": {},
     "output_type": "execute_result"
    }
   ],
   "source": [
    "# Calculate annualised risk-free rate returns\n",
    "annualised_risk_free_rate_returns = (\n",
    "    data.risk_free_rate/100 + 1).cumprod()[-1] ** (252/len(data)) - 1\n",
    "\n",
    "# Print annualised_risk_free_rate_returns\n",
    "annualised_risk_free_rate_returns"
   ]
  },
  {
   "cell_type": "markdown",
   "metadata": {},
   "source": [
    "### Calculate the expected returns of Amazon\n",
    "\n",
    "Expected returns of Amazon (Ri) = Risk-free rate (Rf) + βm * market excess returns + βSMB * SMB + βHML * HML"
   ]
  },
  {
   "cell_type": "code",
   "execution_count": 9,
   "metadata": {
    "code_folding": []
   },
   "outputs": [
    {
     "name": "stdout",
     "output_type": "stream",
     "text": [
      "Expected Returns of Amazon: 20.78\n"
     ]
    }
   ],
   "source": [
    "# Calculate the expected returns of Amazon\n",
    "expected_returns_amazon = annualised_risk_free_rate_returns + \\\n",
    "    reg.params[0] * annualised_market_excess_returns + reg.params[1] * \\\n",
    "    annualised_SMB_returns + reg.params[2] * annualised_HML_returns\n",
    "\n",
    "# Print expected returns of Amazon\n",
    "print('Expected Returns of Amazon: %.2f' % (expected_returns_amazon * 100))"
   ]
  },
  {
   "cell_type": "markdown",
   "metadata": {},
   "source": [
    "As you can see the expected returns of Amazon for 1 year using the Fama-French three-factor model comes out to be 20.78%. In the upcoming units, you will practice these codes through interactive exercises.<br><br>"
   ]
  }
 ],
 "metadata": {
  "kernelspec": {
   "display_name": "Python 3",
   "language": "python",
   "name": "python3"
  },
  "language_info": {
   "codemirror_mode": {
    "name": "ipython",
    "version": 3
   },
   "file_extension": ".py",
   "mimetype": "text/x-python",
   "name": "python",
   "nbconvert_exporter": "python",
   "pygments_lexer": "ipython3",
   "version": "3.7.4"
  }
 },
 "nbformat": 4,
 "nbformat_minor": 2
}
