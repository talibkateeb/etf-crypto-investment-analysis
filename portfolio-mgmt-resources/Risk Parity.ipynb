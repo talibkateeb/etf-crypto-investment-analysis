{
 "cells": [
  {
   "cell_type": "markdown",
   "metadata": {},
   "source": [
    "# Notebook Instructions\n",
    "\n",
    "1. All the <u>code and data files</u> used in this course are available in the downloadable unit of the <u>last section of this course</u>.\n",
    "2. You can run the notebook document sequentially (one cell at a time) by pressing **shift + enter**. \n",
    "3. While a cell is running, a [*] is shown on the left. After the cell is run, the output will appear on the next line.\n",
    "\n",
    "This course is based on specific versions of python packages. You can find the details of the packages in <a href='https://quantra.quantinsti.com/quantra-notebook' target=\"_blank\" >this manual</a>."
   ]
  },
  {
   "cell_type": "markdown",
   "metadata": {},
   "source": [
    "## Risk Parity\n",
    "In this notebook, you will practice the concepts learned in the previous video on Risk Parity. The steps involved are:\n",
    "\n",
    "1. Import the data\n",
    "2. Annualised returns and annualised standard deviation\n",
    "3. Calculate weights using risk parity"
   ]
  },
  {
   "cell_type": "markdown",
   "metadata": {},
   "source": [
    "### Import the libraries"
   ]
  },
  {
   "cell_type": "code",
   "execution_count": 1,
   "metadata": {},
   "outputs": [],
   "source": [
    "# Importing the necessary Python modules required in this notebook\n",
    "import pandas as pd\n",
    "import math\n",
    "import numpy as np\n",
    "from tabulate import tabulate"
   ]
  },
  {
   "cell_type": "markdown",
   "metadata": {},
   "source": [
    "### Calculate annualised returns and standard deviation - you already know this\n",
    "We have imported and saved the prices of the stocks, Chevron (CVX), IBM in a CSV file. You will read the CSV file and save in a dataframe. To do this, you will be using pandas `read_csv()` method."
   ]
  },
  {
   "cell_type": "code",
   "execution_count": 2,
   "metadata": {},
   "outputs": [
    {
     "data": {
      "text/html": [
       "<div>\n",
       "<style scoped>\n",
       "    .dataframe tbody tr th:only-of-type {\n",
       "        vertical-align: middle;\n",
       "    }\n",
       "\n",
       "    .dataframe tbody tr th {\n",
       "        vertical-align: top;\n",
       "    }\n",
       "\n",
       "    .dataframe thead th {\n",
       "        text-align: right;\n",
       "    }\n",
       "</style>\n",
       "<table border=\"1\" class=\"dataframe\">\n",
       "  <thead>\n",
       "    <tr style=\"text-align: right;\">\n",
       "      <th></th>\n",
       "      <th>CVX</th>\n",
       "      <th>IBM</th>\n",
       "    </tr>\n",
       "    <tr>\n",
       "      <th>Date</th>\n",
       "      <th></th>\n",
       "      <th></th>\n",
       "    </tr>\n",
       "  </thead>\n",
       "  <tbody>\n",
       "    <tr>\n",
       "      <th>22-12-2017</th>\n",
       "      <td>124.98</td>\n",
       "      <td>152.50</td>\n",
       "    </tr>\n",
       "    <tr>\n",
       "      <th>26-12-2017</th>\n",
       "      <td>125.98</td>\n",
       "      <td>152.83</td>\n",
       "    </tr>\n",
       "    <tr>\n",
       "      <th>27-12-2017</th>\n",
       "      <td>125.55</td>\n",
       "      <td>153.13</td>\n",
       "    </tr>\n",
       "    <tr>\n",
       "      <th>28-12-2017</th>\n",
       "      <td>125.58</td>\n",
       "      <td>154.04</td>\n",
       "    </tr>\n",
       "    <tr>\n",
       "      <th>29-12-2017</th>\n",
       "      <td>125.19</td>\n",
       "      <td>153.42</td>\n",
       "    </tr>\n",
       "  </tbody>\n",
       "</table>\n",
       "</div>"
      ],
      "text/plain": [
       "               CVX     IBM\n",
       "Date                      \n",
       "22-12-2017  124.98  152.50\n",
       "26-12-2017  125.98  152.83\n",
       "27-12-2017  125.55  153.13\n",
       "28-12-2017  125.58  154.04\n",
       "29-12-2017  125.19  153.42"
      ]
     },
     "execution_count": 2,
     "metadata": {},
     "output_type": "execute_result"
    }
   ],
   "source": [
    "# Read CSV to get the stock prices\n",
    "stock_prices = pd.read_csv(\n",
    "    '../data_modules/Stock_Prices_2016_To_2017_RP.csv', index_col=0)\n",
    "stock_prices.tail()"
   ]
  },
  {
   "cell_type": "markdown",
   "metadata": {},
   "source": [
    "First calculate the annualised returns and annualised standard deviation of the stocks. You learned the calculation in the previous sections."
   ]
  },
  {
   "cell_type": "code",
   "execution_count": 3,
   "metadata": {},
   "outputs": [],
   "source": [
    "# Calculate annulized returns\n",
    "annual_returns = ((((stock_prices.iloc[-1]-stock_prices.iloc[0]) /\n",
    "                    stock_prices.iloc[0])+1)**(252/len(stock_prices)) - 1)\n",
    "\n",
    "# Calculate the daily returns\n",
    "price_returns = stock_prices.pct_change()\n",
    "\n",
    "# Drop the rows with NaN values\n",
    "price_returns.dropna(inplace=True)\n",
    "\n",
    "# Calculate the standard deviation of the returns\n",
    "annual_std_dev = price_returns.std()*math.sqrt(252)"
   ]
  },
  {
   "cell_type": "markdown",
   "metadata": {},
   "source": [
    "### Calculate weights using risk parity"
   ]
  },
  {
   "cell_type": "markdown",
   "metadata": {},
   "source": [
    "According to Risk Parity method the percentage capital allocation is inversely proportional to the risk of the securities. Based on this assumption the weights of a two stock portfolio can be calculated using the following formulas.\n",
    "\n",
    "![title](https://d2a032ejo53cab.cloudfront.net/Glossary/oJO3qckn/RPeq.PNG)\n",
    "\n",
    "You have already calculated the annualised standard deviations of the stocks above. Now let's calculate the weights."
   ]
  },
  {
   "cell_type": "code",
   "execution_count": 4,
   "metadata": {},
   "outputs": [
    {
     "name": "stdout",
     "output_type": "stream",
     "text": [
      "Stocks      Standard deviation    Capital allocation\n",
      "--------  --------------------  --------------------\n",
      "CVX                   0.19589               0.477718\n",
      "IBM                   0.179176              0.522282\n"
     ]
    }
   ],
   "source": [
    "# Calculate 'a' which is percentage capital allocation of CVX stock\n",
    "a = ((1/annual_std_dev['CVX']) /\n",
    "     ((1/annual_std_dev['CVX'])+(1/annual_std_dev['IBM'])))\n",
    "\n",
    "# Calculate 'b' which is percentage capital allocation of IBM stock\n",
    "b = ((1/annual_std_dev['IBM']) /\n",
    "     ((1/annual_std_dev['CVX'])+(1/annual_std_dev['IBM'])))\n",
    "\n",
    "# Print the standard deviation and weights of CVX and IBM\n",
    "print(tabulate([['CVX', annual_std_dev['CVX'], a], ['IBM', annual_std_dev['IBM'], b]], headers=[\n",
    "      'Stocks', 'Standard deviation', 'Capital allocation']))"
   ]
  },
  {
   "cell_type": "markdown",
   "metadata": {},
   "source": [
    "You can see that capital allocation to CVX which is low which has higher standard deviation and vice versa."
   ]
  },
  {
   "cell_type": "markdown",
   "metadata": {},
   "source": [
    "Calculate the portfolio returns and portfolio standard deviation of CVX and IBM. Calculate portfolio returns/portfolio standard deviation."
   ]
  },
  {
   "cell_type": "code",
   "execution_count": 5,
   "metadata": {},
   "outputs": [
    {
     "name": "stdout",
     "output_type": "stream",
     "text": [
      "The Portfolio returns are:  12.21%\n",
      "The Portfolio standard deviation is:  15.09%\n",
      "The (Portfolio returns/portfolio standard deviation) is:  0.81\n"
     ]
    }
   ],
   "source": [
    "# Calculate portfolio returns by multiplying the annualised returns with their weights\n",
    "portfolio_returns = a*annual_returns['CVX'] + b*annual_returns['IBM']\n",
    "print(\"The Portfolio returns are: \", str(round(portfolio_returns, 4)*100)+\"%\")\n",
    "\n",
    "# Calculate the covariance between CVX and IBM and annualise it by multiplying with 252\n",
    "cov_cvx_ibm = np.cov(price_returns['CVX'], price_returns['IBM'], bias=True)*252\n",
    "\n",
    "# Calculate portfolio standard deviation using the annualised standard deviation and the covariance of the stocks\n",
    "portfolio_std_dev = math.sqrt((a**2)*(annual_std_dev['CVX']**2) + (\n",
    "    b**2)*(annual_std_dev['IBM']**2) + 2*a*b*cov_cvx_ibm[0, 1])\n",
    "print(\"The Portfolio standard deviation is: \",\n",
    "      str(round(portfolio_std_dev*100, 2))+\"%\")\n",
    "\n",
    "print(\"The (Portfolio returns/portfolio standard deviation) is: \",\n",
    "      round(portfolio_returns/portfolio_std_dev, 2))"
   ]
  },
  {
   "cell_type": "markdown",
   "metadata": {},
   "source": [
    "In the upcoming PDF, you will learn how to calculate the weights using Risk Parity method when you have more than two stocks.<br><br>"
   ]
  }
 ],
 "metadata": {
  "kernelspec": {
   "display_name": "Python 3",
   "language": "python",
   "name": "python3"
  },
  "language_info": {
   "codemirror_mode": {
    "name": "ipython",
    "version": 3
   },
   "file_extension": ".py",
   "mimetype": "text/x-python",
   "name": "python",
   "nbconvert_exporter": "python",
   "pygments_lexer": "ipython3",
   "version": "3.7.4"
  }
 },
 "nbformat": 4,
 "nbformat_minor": 2
}
