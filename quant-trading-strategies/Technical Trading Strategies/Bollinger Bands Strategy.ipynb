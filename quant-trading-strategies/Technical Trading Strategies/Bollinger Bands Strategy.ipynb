{
 "cells": [
  {
   "cell_type": "markdown",
   "metadata": {},
   "source": [
    "# Notebook Instructions\n",
    "<i>You can run the notebook document sequentially (one cell a time) by pressing <b> shift + enter</b>. While a cell is running, a [*] will display on the left. When it has been run, a number will display indicating the order in which it was run in the notebook [8].</i>\n",
    "\n",
    "<i>Enter edit mode by pressing <b>`Enter`</b> or using the mouse to click on a cell's editor area. Edit mode is indicated by a green cell border and a prompt showing in the editor area.</i>"
   ]
  },
  {
   "cell_type": "markdown",
   "metadata": {
    "collapsed": true
   },
   "source": [
    "## Bollinger Bands\n",
    "In this notebook, we will see how to code the strategy that we discussed in the video lecture. "
   ]
  },
  {
   "cell_type": "markdown",
   "metadata": {},
   "source": [
    "## Import the libraries\n",
    "We will import the necessary libraries."
   ]
  },
  {
   "cell_type": "code",
   "execution_count": 1,
   "metadata": {},
   "outputs": [],
   "source": [
    "import talib as t\n",
    "from talib import MA_Type\n",
    "import numpy as np\n",
    "import pandas as pd\n",
    "import matplotlib.pyplot as plt"
   ]
  },
  {
   "cell_type": "markdown",
   "metadata": {},
   "source": [
    "## Read Gold data\n",
    "We will read the data for ETF linked to Gold Prices ('GLD') from CSV file. "
   ]
  },
  {
   "cell_type": "code",
   "execution_count": 2,
   "metadata": {},
   "outputs": [
    {
     "data": {
      "text/html": [
       "<div>\n",
       "<style scoped>\n",
       "    .dataframe tbody tr th:only-of-type {\n",
       "        vertical-align: middle;\n",
       "    }\n",
       "\n",
       "    .dataframe tbody tr th {\n",
       "        vertical-align: top;\n",
       "    }\n",
       "\n",
       "    .dataframe thead th {\n",
       "        text-align: right;\n",
       "    }\n",
       "</style>\n",
       "<table border=\"1\" class=\"dataframe\">\n",
       "  <thead>\n",
       "    <tr style=\"text-align: right;\">\n",
       "      <th></th>\n",
       "      <th>Open</th>\n",
       "      <th>High</th>\n",
       "      <th>Low</th>\n",
       "      <th>Close</th>\n",
       "      <th>Volume</th>\n",
       "    </tr>\n",
       "    <tr>\n",
       "      <th>Date</th>\n",
       "      <th></th>\n",
       "      <th></th>\n",
       "      <th></th>\n",
       "      <th></th>\n",
       "      <th></th>\n",
       "    </tr>\n",
       "  </thead>\n",
       "  <tbody>\n",
       "    <tr>\n",
       "      <th>2017-01-03</th>\n",
       "      <td>109.62</td>\n",
       "      <td>111.0000</td>\n",
       "      <td>109.37</td>\n",
       "      <td>110.47</td>\n",
       "      <td>7527353</td>\n",
       "    </tr>\n",
       "    <tr>\n",
       "      <th>2017-01-04</th>\n",
       "      <td>111.06</td>\n",
       "      <td>111.2200</td>\n",
       "      <td>110.61</td>\n",
       "      <td>110.86</td>\n",
       "      <td>4904119</td>\n",
       "    </tr>\n",
       "    <tr>\n",
       "      <th>2017-01-05</th>\n",
       "      <td>112.16</td>\n",
       "      <td>112.9400</td>\n",
       "      <td>112.07</td>\n",
       "      <td>112.58</td>\n",
       "      <td>9606761</td>\n",
       "    </tr>\n",
       "    <tr>\n",
       "      <th>2017-01-06</th>\n",
       "      <td>111.81</td>\n",
       "      <td>112.3800</td>\n",
       "      <td>111.57</td>\n",
       "      <td>111.75</td>\n",
       "      <td>7686070</td>\n",
       "    </tr>\n",
       "    <tr>\n",
       "      <th>2017-01-09</th>\n",
       "      <td>112.39</td>\n",
       "      <td>113.0399</td>\n",
       "      <td>112.18</td>\n",
       "      <td>112.67</td>\n",
       "      <td>5674636</td>\n",
       "    </tr>\n",
       "  </tbody>\n",
       "</table>\n",
       "</div>"
      ],
      "text/plain": [
       "              Open      High     Low   Close   Volume\n",
       "Date                                                 \n",
       "2017-01-03  109.62  111.0000  109.37  110.47  7527353\n",
       "2017-01-04  111.06  111.2200  110.61  110.86  4904119\n",
       "2017-01-05  112.16  112.9400  112.07  112.58  9606761\n",
       "2017-01-06  111.81  112.3800  111.57  111.75  7686070\n",
       "2017-01-09  112.39  113.0399  112.18  112.67  5674636"
      ]
     },
     "execution_count": 2,
     "metadata": {},
     "output_type": "execute_result"
    }
   ],
   "source": [
    "df = pd.read_csv('../data_modules/Gold_data.csv', index_col=0)\n",
    "df.index = pd.to_datetime(df.index, format=\"%Y-%m-%d\")\n",
    "df.head()"
   ]
  },
  {
   "cell_type": "markdown",
   "metadata": {
    "collapsed": true
   },
   "source": [
    "## Value of 'n' for standard deviation\n",
    "\n",
    "We will choose a time window (n) for calculating the standard deviation of returns and the bollinger bands. We chose 60 because this would contain the past one quarter's performance, as there are 60 trading days in a quarter."
   ]
  },
  {
   "cell_type": "code",
   "execution_count": 3,
   "metadata": {},
   "outputs": [],
   "source": [
    "n = 60"
   ]
  },
  {
   "cell_type": "markdown",
   "metadata": {},
   "source": [
    "## Returns and standard deviation\n",
    "Next, we will calculate the daily returns and the standard deviation of these returns."
   ]
  },
  {
   "cell_type": "code",
   "execution_count": 4,
   "metadata": {},
   "outputs": [],
   "source": [
    "df['Ret'] = df['Close'].pct_change()\n",
    "df['R_Std'] = df['Ret'].rolling(window=n).std()"
   ]
  },
  {
   "cell_type": "markdown",
   "metadata": {},
   "source": [
    "## Bollinger Bands\n",
    "Now, it is time to calculate the Bollinger Bands. We do this by using the Ta-Lib library which has a bollinger bands function that returns the three Bollinger Bands."
   ]
  },
  {
   "cell_type": "code",
   "execution_count": 5,
   "metadata": {},
   "outputs": [],
   "source": [
    "df['upper'], df['middle'], df['lower'] = t.BBANDS(\n",
    "    np.array(df['Close']), matype=MA_Type.T3)"
   ]
  },
  {
   "cell_type": "markdown",
   "metadata": {},
   "source": [
    "## Signal column\n",
    "\n",
    "We will create and populate the signal column as per the strategy criterion discussed in the video lecture. We check when the market cross the upper Bollinger Bands and compare that day's return with the standard deviation of returns. Similarly, we will apply the opposite criterion as discussed in the video for the lower Bollinger Bands\n",
    "and break out."
   ]
  },
  {
   "cell_type": "code",
   "execution_count": 6,
   "metadata": {},
   "outputs": [],
   "source": [
    "df['Signal'] = 0\n",
    "\n",
    "df.loc[(df['upper'].shift(2) > df['Close'].shift(2)) & (df['upper'].shift(1) < df['Close'].shift(1))\n",
    "       & (df['R_Std'].shift(1) > df['Ret'].shift(1)), 'Signal'] = -1\n",
    "\n",
    "df.loc[(df['lower'].shift(2) < df['Close'].shift(2)) & (df['lower'].shift(1) > df['Close'].shift(1))\n",
    "       & (-df['R_Std'].shift(1) < df['Ret'].shift(1)), 'Signal'] = 1"
   ]
  },
  {
   "cell_type": "markdown",
   "metadata": {},
   "source": [
    "## Strategy returns\n",
    "We will now calculate the daily returns from the strategy."
   ]
  },
  {
   "cell_type": "code",
   "execution_count": 7,
   "metadata": {},
   "outputs": [],
   "source": [
    "df['Str_ret'] = df['Signal']*df['Ret']"
   ]
  },
  {
   "cell_type": "markdown",
   "metadata": {},
   "source": [
    "## Number of trades\n",
    "Next, we will calculate the number of trades generated."
   ]
  },
  {
   "cell_type": "code",
   "execution_count": 8,
   "metadata": {},
   "outputs": [],
   "source": [
    "trades = np.count_nonzero(df['Signal'])"
   ]
  },
  {
   "cell_type": "markdown",
   "metadata": {},
   "source": [
    "## Plot the returns\n",
    "Finally, we will plot the returns from the strategy to visualize it."
   ]
  },
  {
   "cell_type": "code",
   "execution_count": 9,
   "metadata": {},
   "outputs": [
    {
     "data": {
      "image/png": "[encoded data removed]",
      "text/plain": [
       "<Figure size 720x360 with 1 Axes>"
      ]
     },
     "metadata": {
      "needs_background": "light"
     },
     "output_type": "display_data"
    }
   ],
   "source": [
    "plt.figure(figsize=(10, 5))\n",
    "plt.plot((df['Str_ret']+1).cumprod())\n",
    "plt.figtext(0.14, 0.9, s='\\n\\nTrades:%i' % trades)\n",
    "plt.xlabel('Date')\n",
    "plt.ylabel('Returns')\n",
    "plt.show()"
   ]
  },
  {
   "cell_type": "markdown",
   "metadata": {},
   "source": [
    "In the upcoming units, we will practice these codes through interactive coding exercises.<br><br>"
   ]
  }
 ],
 "metadata": {
  "anaconda-cloud": {},
  "kernelspec": {
   "display_name": "Python 3",
   "language": "python",
   "name": "python3"
  },
  "language_info": {
   "codemirror_mode": {
    "name": "ipython",
    "version": 3
   },
   "file_extension": ".py",
   "mimetype": "text/x-python",
   "name": "python",
   "nbconvert_exporter": "python",
   "pygments_lexer": "ipython3",
   "version": "3.8.5"
  }
 },
 "nbformat": 4,
 "nbformat_minor": 2
}
