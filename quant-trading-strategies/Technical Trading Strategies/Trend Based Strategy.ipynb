{
 "cells": [
  {
   "cell_type": "markdown",
   "metadata": {},
   "source": [
    "# Notebook Instructions\n",
    "<i>You can run the notebook document sequentially (one cell a time) by pressing <b> shift + enter</b>. While a cell is running, a [*] will display on the left. When it has been run, a number will display indicating the order in which it was run in the notebook [8].</i>\n",
    "\n",
    "<i>Enter edit mode by pressing <b>`Enter`</b> or using the mouse to click on a cell's editor area. Edit mode is indicated by a green cell border and a prompt showing in the editor area.</i>"
   ]
  },
  {
   "cell_type": "markdown",
   "metadata": {},
   "source": [
    "## Exponential Moving Average, Parabolic SAR, and Stochastic Oscillator\n",
    "In this notebook, we will implement a technical trading strategy based on  the three technical indicators which are Exponential Moving Average, Parabolic SAR, and Stochastic Oscillator. While Exponential Moving Average will estimate the direction of the price, Parabolic SAR and Stochastic Oscillator will help to confirm the movement of price indicated by Exponential Moving Average."
   ]
  },
  {
   "cell_type": "markdown",
   "metadata": {},
   "source": [
    "## Import the libraries"
   ]
  },
  {
   "cell_type": "code",
   "execution_count": 1,
   "metadata": {},
   "outputs": [],
   "source": [
    "import talib as t\n",
    "import numpy as np\n",
    "import pandas as pd\n",
    "import matplotlib.pyplot as plt"
   ]
  },
  {
   "cell_type": "markdown",
   "metadata": {},
   "source": [
    "## Read Gold data\n",
    "We will read the data for ETF linked to Gold Prices ('GLD') from CSV file. "
   ]
  },
  {
   "cell_type": "code",
   "execution_count": 2,
   "metadata": {},
   "outputs": [
    {
     "data": {
      "text/html": [
       "<div>\n",
       "<style scoped>\n",
       "    .dataframe tbody tr th:only-of-type {\n",
       "        vertical-align: middle;\n",
       "    }\n",
       "\n",
       "    .dataframe tbody tr th {\n",
       "        vertical-align: top;\n",
       "    }\n",
       "\n",
       "    .dataframe thead th {\n",
       "        text-align: right;\n",
       "    }\n",
       "</style>\n",
       "<table border=\"1\" class=\"dataframe\">\n",
       "  <thead>\n",
       "    <tr style=\"text-align: right;\">\n",
       "      <th></th>\n",
       "      <th>Open</th>\n",
       "      <th>High</th>\n",
       "      <th>Low</th>\n",
       "      <th>Close</th>\n",
       "      <th>Volume</th>\n",
       "    </tr>\n",
       "    <tr>\n",
       "      <th>Date</th>\n",
       "      <th></th>\n",
       "      <th></th>\n",
       "      <th></th>\n",
       "      <th></th>\n",
       "      <th></th>\n",
       "    </tr>\n",
       "  </thead>\n",
       "  <tbody>\n",
       "    <tr>\n",
       "      <th>2017-01-03</th>\n",
       "      <td>109.62</td>\n",
       "      <td>111.0000</td>\n",
       "      <td>109.37</td>\n",
       "      <td>110.47</td>\n",
       "      <td>7527353</td>\n",
       "    </tr>\n",
       "    <tr>\n",
       "      <th>2017-01-04</th>\n",
       "      <td>111.06</td>\n",
       "      <td>111.2200</td>\n",
       "      <td>110.61</td>\n",
       "      <td>110.86</td>\n",
       "      <td>4904119</td>\n",
       "    </tr>\n",
       "    <tr>\n",
       "      <th>2017-01-05</th>\n",
       "      <td>112.16</td>\n",
       "      <td>112.9400</td>\n",
       "      <td>112.07</td>\n",
       "      <td>112.58</td>\n",
       "      <td>9606761</td>\n",
       "    </tr>\n",
       "    <tr>\n",
       "      <th>2017-01-06</th>\n",
       "      <td>111.81</td>\n",
       "      <td>112.3800</td>\n",
       "      <td>111.57</td>\n",
       "      <td>111.75</td>\n",
       "      <td>7686070</td>\n",
       "    </tr>\n",
       "    <tr>\n",
       "      <th>2017-01-09</th>\n",
       "      <td>112.39</td>\n",
       "      <td>113.0399</td>\n",
       "      <td>112.18</td>\n",
       "      <td>112.67</td>\n",
       "      <td>5674636</td>\n",
       "    </tr>\n",
       "  </tbody>\n",
       "</table>\n",
       "</div>"
      ],
      "text/plain": [
       "              Open      High     Low   Close   Volume\n",
       "Date                                                 \n",
       "2017-01-03  109.62  111.0000  109.37  110.47  7527353\n",
       "2017-01-04  111.06  111.2200  110.61  110.86  4904119\n",
       "2017-01-05  112.16  112.9400  112.07  112.58  9606761\n",
       "2017-01-06  111.81  112.3800  111.57  111.75  7686070\n",
       "2017-01-09  112.39  113.0399  112.18  112.67  5674636"
      ]
     },
     "execution_count": 2,
     "metadata": {},
     "output_type": "execute_result"
    }
   ],
   "source": [
    "df = pd.read_csv('../data_modules/Gold_data.csv', index_col=0)\n",
    "df.index = pd.to_datetime(df.index, format=\"%Y-%m-%d\")\n",
    "df.head()"
   ]
  },
  {
   "cell_type": "markdown",
   "metadata": {},
   "source": [
    "## Settings for EMA and Parabolic SAR\n",
    "Next, we will choose a time window (n) for EMA and accelaration and maximum step for Parabolic SAR. Note that we have taken EMA for a period of 8 days while for Parabolic SAR we have taken an acceleration factor of 0.04 and maximum step of 0.2."
   ]
  },
  {
   "cell_type": "code",
   "execution_count": 3,
   "metadata": {},
   "outputs": [],
   "source": [
    "n = 8\n",
    "acc = 0.04\n",
    "max_step = 0.2"
   ]
  },
  {
   "cell_type": "markdown",
   "metadata": {},
   "source": [
    "## Creation of indicators\n",
    "Now, we will create the indicators that we require for the strategy by using Ta-Lib library. In the code below we have created Parabolic Sar, Exponential Moving Average, Fast and Slow Stochastic Oscillator by using the settings that we specified in the previous code. "
   ]
  },
  {
   "cell_type": "code",
   "execution_count": 4,
   "metadata": {},
   "outputs": [],
   "source": [
    "df['PSAR'] = t.SAR(np.array(df['High']), np.array(df['Low']), acc, max_step)\n",
    "\n",
    "df['EMA'] = t.EMA(np.array(df['Close']), timeperiod=n)\n",
    "\n",
    "df['STOCHF'], df['STOCHS'] = t.STOCH(np.array(df['High']), np.array(df['Low']),\n",
    "                                     np.array(df['Close']), fastk_period=14, slowk_period=5, slowk_matype=0,\n",
    "                                     slowd_period=5, slowd_matype=0)"
   ]
  },
  {
   "cell_type": "markdown",
   "metadata": {},
   "source": [
    "## Signal Column\n",
    "Next, we will create a signal column which will hold the predicted signals based on the indicators."
   ]
  },
  {
   "cell_type": "code",
   "execution_count": 5,
   "metadata": {},
   "outputs": [],
   "source": [
    "df['Signal']=0\n",
    "\n",
    "df.loc[(df['EMA'].shift(1)>df['Close'].shift(1)) & (df['EMA']<df['Close']) &\\\n",
    "   (df['PSAR']<df['Close']) & (df['STOCHF']>df['STOCHS']) & (df['STOCHF']<80),'Signal']=1\n",
    "    \n",
    "df.loc[(df['EMA'].shift(1)<df['Close'].shift(1)) & (df['EMA']>df['Close']) &\\\n",
    "   (df['PSAR']>df['Close']) & (df['STOCHF']<df['STOCHS']) & (df['STOCHF']>20),'Signal']=-1"
   ]
  },
  {
   "cell_type": "markdown",
   "metadata": {
    "collapsed": true
   },
   "source": [
    "## Signal values as 0\n",
    "We will drop or remove all the rows which have a signal value equal to 0."
   ]
  },
  {
   "cell_type": "code",
   "execution_count": 6,
   "metadata": {},
   "outputs": [],
   "source": [
    "df = df.drop((df[(df['Signal'] == 0)].index))"
   ]
  },
  {
   "cell_type": "markdown",
   "metadata": {},
   "source": [
    "## Same consecutive signals\n",
    "We will also drop all the rows which have same consecutive signals."
   ]
  },
  {
   "cell_type": "code",
   "execution_count": 7,
   "metadata": {},
   "outputs": [],
   "source": [
    "df = df.drop(df[df['Signal'] == df['Signal'].shift(1)].index)"
   ]
  },
  {
   "cell_type": "markdown",
   "metadata": {},
   "source": [
    "## Market Return\n",
    "Now, we will calculate the market return."
   ]
  },
  {
   "cell_type": "code",
   "execution_count": 8,
   "metadata": {},
   "outputs": [],
   "source": [
    "df['Return'] = df['Close'].pct_change()"
   ]
  },
  {
   "cell_type": "markdown",
   "metadata": {},
   "source": [
    "## Strategy Returns\n",
    "Next, we will calculate the returns that we are able to gain from the strategy."
   ]
  },
  {
   "cell_type": "code",
   "execution_count": 9,
   "metadata": {},
   "outputs": [],
   "source": [
    "df['Str_Return'] = df['Return']*df['Signal']"
   ]
  },
  {
   "cell_type": "markdown",
   "metadata": {},
   "source": [
    "## Plot the results\n",
    "Lastly, we will plot the returns from the strategy on a chart."
   ]
  },
  {
   "cell_type": "code",
   "execution_count": 10,
   "metadata": {},
   "outputs": [
    {
     "data": {
      "image/png": "[encoded data removed]",
      "text/plain": [
       "<Figure size 720x432 with 1 Axes>"
      ]
     },
     "metadata": {
      "needs_background": "light"
     },
     "output_type": "display_data"
    }
   ],
   "source": [
    "plt.figure(figsize=(10, 6))\n",
    "plt.plot((df['Str_Return']+1).cumprod())\n",
    "plt.xlabel('Date')\n",
    "plt.ylabel('Returns')\n",
    "plt.show()"
   ]
  },
  {
   "cell_type": "markdown",
   "metadata": {},
   "source": [
    "In the upcoming units, you will practice these codes through interactive exercises.<br><br>"
   ]
  }
 ],
 "metadata": {
  "anaconda-cloud": {},
  "kernelspec": {
   "display_name": "Python 3",
   "language": "python",
   "name": "python3"
  },
  "language_info": {
   "codemirror_mode": {
    "name": "ipython",
    "version": 3
   },
   "file_extension": ".py",
   "mimetype": "text/x-python",
   "name": "python",
   "nbconvert_exporter": "python",
   "pygments_lexer": "ipython3",
   "version": "3.7.4"
  }
 },
 "nbformat": 4,
 "nbformat_minor": 2
}
