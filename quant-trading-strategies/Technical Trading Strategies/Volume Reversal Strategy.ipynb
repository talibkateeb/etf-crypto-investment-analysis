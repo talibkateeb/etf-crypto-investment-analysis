{
 "cells": [
  {
   "cell_type": "markdown",
   "metadata": {},
   "source": [
    "# Notebook Instructions\n",
    "<i>You can run the notebook document sequentially (one cell a time) by pressing <b> shift + enter</b>. While a cell is running, a [*] will display on the left. When it has been run, a number will display indicating the order in which it was run in the notebook [8].</i>\n",
    "\n",
    "<i>Enter edit mode by pressing <b>`Enter`</b> or using the mouse to click on a cell's editor area. Edit mode is indicated by a green cell border and a prompt showing in the editor area.</i>"
   ]
  },
  {
   "cell_type": "markdown",
   "metadata": {},
   "source": [
    "# Volume Reversal Strategy\n",
    "\n",
    "In this notebook, we will implement a trading strategy based on price movements corresponding to the trading volume of the security."
   ]
  },
  {
   "cell_type": "markdown",
   "metadata": {},
   "source": [
    "## Import the libraries\n",
    "First we will import the necessary libraries. "
   ]
  },
  {
   "cell_type": "code",
   "execution_count": 1,
   "metadata": {},
   "outputs": [],
   "source": [
    "import numpy as np\n",
    "import matplotlib.pyplot as plt\n",
    "import pandas as pd"
   ]
  },
  {
   "cell_type": "markdown",
   "metadata": {},
   "source": [
    "## Stock data \n",
    "We will now read the data for Apple(AAPL) from CSV file. We will be saving the data in the dataframe 'data'. We will then, print the data to visualise it by using the head() function which prints the top 5 rows of the dataset.\n",
    "\n",
    "You can download the data from the downloadable unit of this course in the last section. You can also fetch the US equity data from Yahoo finance."
   ]
  },
  {
   "cell_type": "code",
   "execution_count": 2,
   "metadata": {},
   "outputs": [
    {
     "data": {
      "text/html": [
       "<div>\n",
       "<style scoped>\n",
       "    .dataframe tbody tr th:only-of-type {\n",
       "        vertical-align: middle;\n",
       "    }\n",
       "\n",
       "    .dataframe tbody tr th {\n",
       "        vertical-align: top;\n",
       "    }\n",
       "\n",
       "    .dataframe thead th {\n",
       "        text-align: right;\n",
       "    }\n",
       "</style>\n",
       "<table border=\"1\" class=\"dataframe\">\n",
       "  <thead>\n",
       "    <tr style=\"text-align: right;\">\n",
       "      <th></th>\n",
       "      <th>Open</th>\n",
       "      <th>High</th>\n",
       "      <th>Low</th>\n",
       "      <th>Close</th>\n",
       "      <th>Volume</th>\n",
       "    </tr>\n",
       "    <tr>\n",
       "      <th>date</th>\n",
       "      <th></th>\n",
       "      <th></th>\n",
       "      <th></th>\n",
       "      <th></th>\n",
       "      <th></th>\n",
       "    </tr>\n",
       "  </thead>\n",
       "  <tbody>\n",
       "    <tr>\n",
       "      <th>2018-06-19</th>\n",
       "      <td>185.14</td>\n",
       "      <td>186.33</td>\n",
       "      <td>183.45</td>\n",
       "      <td>185.69</td>\n",
       "      <td>33578455</td>\n",
       "    </tr>\n",
       "    <tr>\n",
       "      <th>2018-06-20</th>\n",
       "      <td>186.35</td>\n",
       "      <td>187.20</td>\n",
       "      <td>185.73</td>\n",
       "      <td>186.50</td>\n",
       "      <td>20628701</td>\n",
       "    </tr>\n",
       "    <tr>\n",
       "      <th>2018-06-21</th>\n",
       "      <td>187.25</td>\n",
       "      <td>188.35</td>\n",
       "      <td>184.94</td>\n",
       "      <td>185.46</td>\n",
       "      <td>25711898</td>\n",
       "    </tr>\n",
       "    <tr>\n",
       "      <th>2018-06-22</th>\n",
       "      <td>186.12</td>\n",
       "      <td>186.15</td>\n",
       "      <td>184.70</td>\n",
       "      <td>184.92</td>\n",
       "      <td>27200447</td>\n",
       "    </tr>\n",
       "    <tr>\n",
       "      <th>2018-06-25</th>\n",
       "      <td>183.40</td>\n",
       "      <td>184.92</td>\n",
       "      <td>180.73</td>\n",
       "      <td>182.17</td>\n",
       "      <td>31663096</td>\n",
       "    </tr>\n",
       "  </tbody>\n",
       "</table>\n",
       "</div>"
      ],
      "text/plain": [
       "              Open    High     Low   Close    Volume\n",
       "date                                                \n",
       "2018-06-19  185.14  186.33  183.45  185.69  33578455\n",
       "2018-06-20  186.35  187.20  185.73  186.50  20628701\n",
       "2018-06-21  187.25  188.35  184.94  185.46  25711898\n",
       "2018-06-22  186.12  186.15  184.70  184.92  27200447\n",
       "2018-06-25  183.40  184.92  180.73  182.17  31663096"
      ]
     },
     "execution_count": 2,
     "metadata": {},
     "output_type": "execute_result"
    }
   ],
   "source": [
    "import pandas as pd\n",
    "data = pd.read_csv('../data_modules/aaple_data_18_19.csv',\n",
    "                   index_col=0, parse_dates=True)\n",
    "data.head()"
   ]
  },
  {
   "cell_type": "markdown",
   "metadata": {},
   "source": [
    "## Price change for the last 5 days\n",
    "We will calculate the difference between the current price of the stock and the price of the stock five days ago. We will use shift() function for fetching the data for days in the past. data['Close'].shift(1) will give us yesterday's closing price, data['Close'].shift(6) will give us the closing price 6 days earlier. The difference of the two will give us the price change for the last 5 days and store this in a new column called 'pr_change'."
   ]
  },
  {
   "cell_type": "code",
   "execution_count": 3,
   "metadata": {
    "scrolled": true
   },
   "outputs": [],
   "source": [
    "data['pr_chg'] = data['Close'].shift(1)-data['Close'].shift(6)"
   ]
  },
  {
   "cell_type": "markdown",
   "metadata": {},
   "source": [
    "## Standard deviation of price change\n",
    "Next, we will calculate 100 days standard deviation of price change and store the value in a new column called 'std_100day' by using the rolling.std() function. This will help us to measure volatility of change in price for the stock."
   ]
  },
  {
   "cell_type": "code",
   "execution_count": 4,
   "metadata": {},
   "outputs": [],
   "source": [
    "data['std_100day'] = data['pr_chg'].rolling(window=100).std()"
   ]
  },
  {
   "cell_type": "markdown",
   "metadata": {
    "collapsed": true
   },
   "source": [
    "## Average volume traded\n",
    "Now we will calculate the last 5 day's (previous week's) average traded volume by using the shift() and rolling.mean() functions and store the values in a new column '5d_avg_vol'. "
   ]
  },
  {
   "cell_type": "code",
   "execution_count": 5,
   "metadata": {},
   "outputs": [],
   "source": [
    "data['5d_avg_vol'] = data['Volume'].shift(1).rolling(window=5).mean()"
   ]
  },
  {
   "cell_type": "markdown",
   "metadata": {},
   "source": [
    "## Average volume traded between last 5 to 10 days\n",
    "Next, we will calculate the average traded volume for last 5 to 10 days by shifting the values in column '5d_avg_vol' and store this value in a new column 'past 5d_avg_vol'."
   ]
  },
  {
   "cell_type": "code",
   "execution_count": 6,
   "metadata": {},
   "outputs": [],
   "source": [
    "data['past 5d_avg_vol'] = data['5d_avg_vol'].shift(5)"
   ]
  },
  {
   "cell_type": "markdown",
   "metadata": {},
   "source": [
    "## Signal column\n",
    "To store the trading signals we will create a 'signal' column and store 0 values in it. "
   ]
  },
  {
   "cell_type": "code",
   "execution_count": 7,
   "metadata": {},
   "outputs": [],
   "source": [
    "data['signal'] = 0"
   ]
  },
  {
   "cell_type": "markdown",
   "metadata": {},
   "source": [
    "## Buy signal \n",
    "A signal to buy will be triggered when the absolute value of the 5 day price change is greater than the 100 day standard deviation and the 5 day average traded volume is less than the 5 day average volume beginning 10 days prior and the 5 day price change is negative. We will assign a value of 1 to the column 'signal' when these conditions are met.\n",
    " \n",
    "Please note that we are comparing the 5 day average volume with 5 day average volume beginning 10 days prior instead of considering 75% of the 5 day average volume beginning 10 days prior as was stated in the video lecture because the number of signals generated was very low with the 75% condition. "
   ]
  },
  {
   "cell_type": "code",
   "execution_count": 8,
   "metadata": {},
   "outputs": [],
   "source": [
    "data.loc[((data['pr_chg'].abs() > data['std_100day']) & (data['5d_avg_vol'] < data['past 5d_avg_vol'])\n",
    "          & (data['pr_chg'] < 0)), 'signal'] = 1"
   ]
  },
  {
   "cell_type": "markdown",
   "metadata": {},
   "source": [
    "## Sell signal \n",
    "Similarly, a sell signal will be generated when the value of price change is positive. In this case, we store a value of -1 to the signal column."
   ]
  },
  {
   "cell_type": "code",
   "execution_count": 9,
   "metadata": {},
   "outputs": [],
   "source": [
    "data.loc[((data['pr_chg'].abs() > data['std_100day'])\n",
    "          & (data['5d_avg_vol'] < data['past 5d_avg_vol'])\n",
    "          & (data['pr_chg'] > 0)), 'signal'] = -1"
   ]
  },
  {
   "cell_type": "markdown",
   "metadata": {},
   "source": [
    "## c_signal and exit columns \n",
    "Next, we will create two columns, c_signal and exit, to measure the count of continuous signals and the exit criterion respectively and store 0 values in them."
   ]
  },
  {
   "cell_type": "code",
   "execution_count": 10,
   "metadata": {},
   "outputs": [],
   "source": [
    "data['c_signal'] = 0\n",
    "data['exit'] = 0"
   ]
  },
  {
   "cell_type": "markdown",
   "metadata": {},
   "source": [
    "## Entry and Exit signal\n",
    "\n",
    "In this block of code, we will implement the core of the strategy. Here we will check for the last entry signal, if the signal is more than 5 days old then we exit the position, else we will continue to hold it until the signal is 5 days old or a counter signal is generated.\n",
    "\n",
    "Let us understand what we do in each of the if statements below:\n",
    "\n",
    "First, we check if a new signal is generated, if it is then we will assign the c_signal column equal to the new signal, and then we update the exit criterion according to the signal generated. In this case, we will check if the signal is 1 if it is so, then we will mark the exit count as 1 otherwise, we will mark it as -1.\n",
    "\n",
    "Next, we will check if the entry signal is same as the existing position. If it is so, then we will update the exit criterion depending on the position. For example, if you are already long then your c_signal would be 1, hence it will be incremented by 1. If you are short then your c_signal is -1 and your exit will be reduced by 1.\n",
    "\n",
    "After this, we will update the exit criterion for an already existing long trade. We check if the exit value of the c_signal is less 5 days old, if this is the case then we verify if the continuing signal is same as the previous days then we increment the exit by 1.\n",
    "\n",
    "\n",
    "Just as in the above step, we will update the exit criterion for an already existing short trade.\n",
    "\n",
    "\n",
    "Next, we will update the exit criterion to 0 on the fifth day after entering the trade. This is one of the conditions of the strategy and accordingly we will close all positions on their 5th day."
   ]
  },
  {
   "cell_type": "code",
   "execution_count": 11,
   "metadata": {},
   "outputs": [],
   "source": [
    "for i in range(len(data)):\n",
    "    if (data.iloc[i]['signal'] != 0) & (data.iloc[i]['signal']\n",
    "                                        != data.iloc[i - 1]['c_signal']):\n",
    "        data.iloc[i, data.columns.get_loc('c_signal')] = data.iloc[i,\n",
    "                                                                   data.columns.get_loc('signal')]\n",
    "        if data['signal'][i] == 1:\n",
    "            data.iloc[i, data.columns.get_loc('exit')] = 1\n",
    "        else:\n",
    "            data.iloc[i, data.columns.get_loc('exit')] = -1\n",
    "    \n",
    "    if (data['signal'][i] != 0) & (data['signal'][i] == data['c_signal'\n",
    "                                                             ][i - 1]):\n",
    "        data.iloc[i, data.columns.get_loc('c_signal')] = data['c_signal'\n",
    "                                                              ][i - 1]\n",
    "        if data['c_signal'][i - 1] == 1:\n",
    "            data.iloc[i, data.columns.get_loc('exit')] = int(data['exit'\n",
    "                                                                  ][i - 1]) + 1\n",
    "        else:\n",
    "            data.iloc[i, data.columns.get_loc('exit')] = int(data['exit'\n",
    "                                                                  ][i - 1]) - 1\n",
    "    if (data['signal'][i] == 0) & (data['exit'][i - 1] < 5) \\\n",
    "            & (data['exit'][i - 1] > 0):\n",
    "        data.iloc[i, data.columns.get_loc('c_signal')] = data['c_signal'\n",
    "                                                              ][i - 1]\n",
    "        data.iloc[i, data.columns.get_loc('exit')] = int(data['exit'][i\n",
    "                                                                      - 1]) + 1\n",
    "    if (data['signal'][i] == 0) & (data['exit'][i - 1] > -5) \\\n",
    "            & (data['exit'][i - 1] < 0):\n",
    "        data.iloc[i, data.columns.get_loc('c_signal')] = data['c_signal'\n",
    "                                                              ][i - 1]\n",
    "        data.iloc[i, data.columns.get_loc('exit')] = int(data['exit'][i\n",
    "                                                                      - 1]) - 1\n",
    "    if (data['signal'][i] == 0) & ((data['exit'][i - 1] == 5)\n",
    "                                   | (data['exit'][i - 1] == -5)):\n",
    "        data.iloc[i, data.columns.get_loc('c_signal')] = 0\n",
    "        data.iloc[i, data.columns.get_loc('exit')] = 0"
   ]
  },
  {
   "cell_type": "code",
   "execution_count": 12,
   "metadata": {},
   "outputs": [
    {
     "name": "stdout",
     "output_type": "stream",
     "text": [
      "              Open    High     Low   Close    Volume  pr_chg  std_100day  \\\n",
      "date                                                                       \n",
      "2019-06-11  194.86  196.00  193.60  194.81  26932882   19.28    7.068511   \n",
      "2019-06-12  193.95  195.97  193.39  194.19  18253189   15.17    7.196139   \n",
      "2019-06-13  194.70  196.79  193.60  194.15  21674625   11.65    7.263067   \n",
      "2019-06-14  191.55  193.59  190.30  192.74  18761474    8.93    7.292381   \n",
      "2019-06-17  192.90  194.96  192.17  193.89  14669144    2.59    7.291401   \n",
      "\n",
      "            5d_avg_vol  past 5d_avg_vol  signal  c_signal  exit  \n",
      "date                                                             \n",
      "2019-06-11  28034588.6       29017478.0      -1        -1    -1  \n",
      "2019-06-12  27227572.8       29621438.2      -1        -1    -2  \n",
      "2019-06-13  24923525.2       29879890.6      -1        -1    -3  \n",
      "2019-06-14  24753188.0       30141470.4      -1        -1    -4  \n",
      "2019-06-17  22368604.2       30869632.2       0        -1    -5  \n"
     ]
    }
   ],
   "source": [
    "print(data.tail())"
   ]
  },
  {
   "cell_type": "markdown",
   "metadata": {},
   "source": [
    "## Market returns\n",
    "We will now calculate the returns of the market for each day by dividing the current day closing price by previous day's closing price."
   ]
  },
  {
   "cell_type": "code",
   "execution_count": 13,
   "metadata": {},
   "outputs": [],
   "source": [
    "data['return'] = data['Close'].pct_change()"
   ]
  },
  {
   "cell_type": "markdown",
   "metadata": {},
   "source": [
    "## Strategy returns\n",
    "It is now time to calculate the returns of the strategy by taking the product of return and its corresponding value in the column c_signal."
   ]
  },
  {
   "cell_type": "code",
   "execution_count": 14,
   "metadata": {},
   "outputs": [],
   "source": [
    "data['str_return'] = data['return']*data['c_signal']"
   ]
  },
  {
   "cell_type": "markdown",
   "metadata": {},
   "source": [
    "## Cumulative returns\n",
    "We will create two new columns to calculate cumulative returns of the strategy and that of the market. "
   ]
  },
  {
   "cell_type": "code",
   "execution_count": 15,
   "metadata": {},
   "outputs": [],
   "source": [
    "data['cu_str_return'] = 0\n",
    "data['cu_mar_return'] = 0"
   ]
  },
  {
   "cell_type": "markdown",
   "metadata": {},
   "source": [
    "## Returns after the first hundred days \n",
    "Next, we will calculate the strategy and market returns after the first hundred days as the first signal will need hundred days of data to calculate the standard deviation in the std_100 day column."
   ]
  },
  {
   "cell_type": "code",
   "execution_count": 16,
   "metadata": {},
   "outputs": [],
   "source": [
    "data.iloc[100:,data.columns.get_loc('cu_str_return')]= (data['str_return'][100:]+1).cumprod()"
   ]
  },
  {
   "cell_type": "code",
   "execution_count": 17,
   "metadata": {},
   "outputs": [],
   "source": [
    "data.iloc[100:, data.columns.get_loc('cu_mar_return')] = (\n",
    "    data['return'][100:]+1).cumprod()"
   ]
  },
  {
   "cell_type": "code",
   "execution_count": 18,
   "metadata": {},
   "outputs": [
    {
     "data": {
      "text/html": [
       "<div>\n",
       "<style scoped>\n",
       "    .dataframe tbody tr th:only-of-type {\n",
       "        vertical-align: middle;\n",
       "    }\n",
       "\n",
       "    .dataframe tbody tr th {\n",
       "        vertical-align: top;\n",
       "    }\n",
       "\n",
       "    .dataframe thead th {\n",
       "        text-align: right;\n",
       "    }\n",
       "</style>\n",
       "<table border=\"1\" class=\"dataframe\">\n",
       "  <thead>\n",
       "    <tr style=\"text-align: right;\">\n",
       "      <th></th>\n",
       "      <th>cu_mar_return</th>\n",
       "      <th>cu_str_return</th>\n",
       "      <th>c_signal</th>\n",
       "    </tr>\n",
       "    <tr>\n",
       "      <th>date</th>\n",
       "      <th></th>\n",
       "      <th></th>\n",
       "      <th></th>\n",
       "    </tr>\n",
       "  </thead>\n",
       "  <tbody>\n",
       "    <tr>\n",
       "      <th>2019-06-11</th>\n",
       "      <td>0.927888</td>\n",
       "      <td>1.108308</td>\n",
       "      <td>-1</td>\n",
       "    </tr>\n",
       "    <tr>\n",
       "      <th>2019-06-12</th>\n",
       "      <td>0.924935</td>\n",
       "      <td>1.111836</td>\n",
       "      <td>-1</td>\n",
       "    </tr>\n",
       "    <tr>\n",
       "      <th>2019-06-13</th>\n",
       "      <td>0.924744</td>\n",
       "      <td>1.112065</td>\n",
       "      <td>-1</td>\n",
       "    </tr>\n",
       "    <tr>\n",
       "      <th>2019-06-14</th>\n",
       "      <td>0.918028</td>\n",
       "      <td>1.120141</td>\n",
       "      <td>-1</td>\n",
       "    </tr>\n",
       "    <tr>\n",
       "      <th>2019-06-17</th>\n",
       "      <td>0.923506</td>\n",
       "      <td>1.113458</td>\n",
       "      <td>-1</td>\n",
       "    </tr>\n",
       "  </tbody>\n",
       "</table>\n",
       "</div>"
      ],
      "text/plain": [
       "            cu_mar_return  cu_str_return  c_signal\n",
       "date                                              \n",
       "2019-06-11       0.927888       1.108308        -1\n",
       "2019-06-12       0.924935       1.111836        -1\n",
       "2019-06-13       0.924744       1.112065        -1\n",
       "2019-06-14       0.918028       1.120141        -1\n",
       "2019-06-17       0.923506       1.113458        -1"
      ]
     },
     "execution_count": 18,
     "metadata": {},
     "output_type": "execute_result"
    }
   ],
   "source": [
    "data[['cu_mar_return', 'cu_str_return', 'c_signal']].tail()"
   ]
  },
  {
   "cell_type": "markdown",
   "metadata": {},
   "source": [
    "## Plot the returns \n",
    "We will now plot the returns of the market and that of the strategy on a chart."
   ]
  },
  {
   "cell_type": "code",
   "execution_count": 19,
   "metadata": {},
   "outputs": [
    {
     "data": {
      "image/png": "[encoded data removed]",
      "text/plain": [
       "<Figure size 720x504 with 1 Axes>"
      ]
     },
     "metadata": {
      "needs_background": "light"
     },
     "output_type": "display_data"
    }
   ],
   "source": [
    "from pandas.plotting import register_matplotlib_converters\n",
    "register_matplotlib_converters()\n",
    "plt.figure(figsize=(10, 7))\n",
    "plt.plot(data['cu_str_return'][100:], color='g', label='Strategy Returns')\n",
    "plt.plot(data['cu_mar_return'][100:], color='r', label='Market Returns')\n",
    "plt.xlabel('Date')\n",
    "plt.ylabel('Returns')\n",
    "plt.show()"
   ]
  },
  {
   "cell_type": "markdown",
   "metadata": {},
   "source": [
    "## Sharpe ratio \n",
    "To evaluate the returns of the strategy we will calculate the Sharpe ratio by dividing the difference between the cumulative strategy returns and that of market returns by standard deviation of cumulative strategy returns."
   ]
  },
  {
   "cell_type": "code",
   "execution_count": 20,
   "metadata": {},
   "outputs": [
    {
     "data": {
      "text/plain": [
       "0.34292826791401304"
      ]
     },
     "execution_count": 20,
     "metadata": {},
     "output_type": "execute_result"
    }
   ],
   "source": [
    "(data['cu_str_return'].iloc[-1]-data['cu_mar_return'].iloc[-1]) / \\\n",
    "    data['cu_str_return'].std()"
   ]
  },
  {
   "cell_type": "markdown",
   "metadata": {
    "collapsed": true
   },
   "source": [
    "#### Note: The number of signals generated may increase if we apply the strategy to a portfolio of stocks instead of just one stock."
   ]
  }
 ],
 "metadata": {
  "anaconda-cloud": {},
  "kernelspec": {
   "display_name": "Python 3",
   "language": "python",
   "name": "python3"
  },
  "language_info": {
   "codemirror_mode": {
    "name": "ipython",
    "version": 3
   },
   "file_extension": ".py",
   "mimetype": "text/x-python",
   "name": "python",
   "nbconvert_exporter": "python",
   "pygments_lexer": "ipython3",
   "version": "3.8.5"
  }
 },
 "nbformat": 4,
 "nbformat_minor": 2
}
